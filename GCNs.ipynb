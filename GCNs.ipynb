{
 "cells": [
  {
   "cell_type": "markdown",
   "id": "referenced-tradition",
   "metadata": {},
   "source": [
    "## Scrape GCN circulars"
   ]
  },
  {
   "cell_type": "code",
   "execution_count": 1,
   "id": "sacred-adolescent",
   "metadata": {},
   "outputs": [],
   "source": [
    "from bs4 import BeautifulSoup as bs\n",
    "import requests"
   ]
  },
  {
   "cell_type": "code",
   "execution_count": null,
   "id": "prescription-separate",
   "metadata": {},
   "outputs": [],
   "source": [
    "grbs = []\n",
    "short_flagged = []\n",
    "for y in range(2004,2020):\n",
    "    year = str(y)\n",
    "    main_page = requests.get(f\"https://gcn.gsfc.nasa.gov/selected_{year}.html\")\n",
    "    soup = bs(main_page.text, 'html.parser')\n",
    "    events = soup.find_all('b')\n",
    "    for event in events:\n",
    "        if \"GRB \" in event.text:\n",
    "            GRB_ID = event.text.split()[1].replace(\":\",\"\")\n",
    "            grbs.append(GRB_ID)\n",
    "            target_url = f\"https://gcn.gsfc.nasa.gov/other/{GRB_ID}.gcn3\"\n",
    "            try:\n",
    "                circulars = requests.get(target_url).text\n",
    "                if \"short burst\" in circulars.lower() or \"short-burst\" in circulars.lower():\n",
    "                    short_flagged.append(GRB_ID)\n",
    "            except:\n",
    "                print(\"Couldn't get circulars for GRB\",GRB_ID)\n",
    "        \n",
    "        else:\n",
    "            pass\n",
    "                \n",
    "    print(\"Finished \"+year+\".\")"
   ]
  },
  {
   "cell_type": "code",
   "execution_count": null,
   "id": "pursuant-milan",
   "metadata": {},
   "outputs": [],
   "source": [
    "new_ones = pd.read_csv(\"./products/new.csv\",header=None).values.flatten()\n",
    "for entry in new_ones:\n",
    "    if \"GRB \" in entry:\n",
    "        print(entry.split(\":\")[0])"
   ]
  },
  {
   "cell_type": "code",
   "execution_count": null,
   "id": "voluntary-carroll",
   "metadata": {},
   "outputs": [],
   "source": [
    "for event in events:\n",
    "        if \"GRB \" in event.text:\n",
    "            GRB_ID = event.text.split()[1].replace(\":\",\"\")\n",
    "            grbs.append(GRB_ID)\n",
    "            target_url = f\"https://gcn.gsfc.nasa.gov/other/{GRB_ID}.gcn3\"\n",
    "            try:\n",
    "                circulars = requests.get(target_url).text\n",
    "                if \"short burst\" in circulars.lower() or \"short-burst\" in circulars.lower():\n",
    "                    short_flagged.append(GRB_ID)\n",
    "            except:\n",
    "                print(\"Couldn't get circulars for GRB\",GRB_ID)\n",
    "        \n",
    "        else:\n",
    "            pass"
   ]
  },
  {
   "cell_type": "code",
   "execution_count": null,
   "id": "stretch-mention",
   "metadata": {},
   "outputs": [],
   "source": [
    "not_already = list(set([grb[:6] for grb in short_flagged]) - set([grb[:6] for grb in sGRBs[\"GRB\"]]))\n",
    "not_already.sort()"
   ]
  },
  {
   "cell_type": "code",
   "execution_count": null,
   "id": "classified-panama",
   "metadata": {},
   "outputs": [],
   "source": [
    "for grb in not_already:\n",
    "    target_url = f\"https://gcn.gsfc.nasa.gov/other/{grb}.gcn3\"\n",
    "    try:\n",
    "        circulars = requests.get(target_url).text\n",
    "        print(circulars.split(\"////////////////////////////////////////////////////////////////////////\")[1])\n",
    "    except:\n",
    "        print(\"Couldn't get circulars for GRB\",grb)\n",
    "    print(\"\\n\")"
   ]
  }
 ],
 "metadata": {
  "hide_input": false,
  "kernelspec": {
   "display_name": "Python 3",
   "language": "python",
   "name": "python3"
  },
  "language_info": {
   "codemirror_mode": {
    "name": "ipython",
    "version": 3
   },
   "file_extension": ".py",
   "mimetype": "text/x-python",
   "name": "python",
   "nbconvert_exporter": "python",
   "pygments_lexer": "ipython3",
   "version": "3.8.6"
  },
  "latex_envs": {
   "LaTeX_envs_menu_present": true,
   "autoclose": true,
   "autocomplete": true,
   "bibliofile": "biblio.bib",
   "cite_by": "apalike",
   "current_citInitial": 1,
   "eqLabelWithNumbers": true,
   "eqNumInitial": 1,
   "hotkeys": {
    "equation": "Ctrl-E",
    "itemize": "Ctrl-I"
   },
   "labels_anchors": false,
   "latex_user_defs": false,
   "report_style_numbering": false,
   "user_envs_cfg": false
  },
  "toc": {
   "base_numbering": 1,
   "nav_menu": {},
   "number_sections": true,
   "sideBar": true,
   "skip_h1_title": false,
   "title_cell": "Table of Contents",
   "title_sidebar": "Contents",
   "toc_cell": false,
   "toc_position": {},
   "toc_section_display": true,
   "toc_window_display": false
  },
  "varInspector": {
   "cols": {
    "lenName": 16,
    "lenType": 16,
    "lenVar": 40
   },
   "kernels_config": {
    "python": {
     "delete_cmd_postfix": "",
     "delete_cmd_prefix": "del ",
     "library": "var_list.py",
     "varRefreshCmd": "print(var_dic_list())"
    },
    "r": {
     "delete_cmd_postfix": ") ",
     "delete_cmd_prefix": "rm(",
     "library": "var_list.r",
     "varRefreshCmd": "cat(var_dic_list()) "
    }
   },
   "types_to_exclude": [
    "module",
    "function",
    "builtin_function_or_method",
    "instance",
    "_Feature"
   ],
   "window_display": false
  }
 },
 "nbformat": 4,
 "nbformat_minor": 5
}
