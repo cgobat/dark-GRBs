{
 "cells": [
  {
   "cell_type": "code",
   "execution_count": 1,
   "id": "planned-heading",
   "metadata": {},
   "outputs": [],
   "source": [
    "%load_ext autoreload\n",
    "%autoreload 2"
   ]
  },
  {
   "cell_type": "code",
   "execution_count": 9,
   "id": "light-beverage",
   "metadata": {},
   "outputs": [],
   "source": [
    "import ipywidgets, pandas as pd\n",
    "from IPython.display import clear_output\n",
    "from code.utilities import custom_iter, literature_references, new_since_Fong\n",
    "import json"
   ]
  },
  {
   "cell_type": "code",
   "execution_count": 3,
   "id": "warming-organization",
   "metadata": {},
   "outputs": [],
   "source": [
    "GRB_iter = custom_iter(new_since_Fong(pd.read_csv(\"./products/Swift_sGRB_catalog.csv\"))[\"GRB\"])"
   ]
  },
  {
   "cell_type": "code",
   "execution_count": 4,
   "id": "liquid-freight",
   "metadata": {},
   "outputs": [
    {
     "data": {
      "application/vnd.jupyter.widget-view+json": {
       "model_id": "2a15db37733f4352b0cb88762c63a232",
       "version_major": 2,
       "version_minor": 0
      },
      "text/plain": [
       "Button(description='Next GRB', style=ButtonStyle())"
      ]
     },
     "metadata": {},
     "output_type": "display_data"
    }
   ],
   "source": [
    "GRB_button = ipywidgets.Button(description=\"Next GRB\")\n",
    "display(GRB_button)\n",
    "def next_GRB(button):\n",
    "    next(GRB_iter)\n",
    "    references = literature_references(GRB_iter.current)\n",
    "    print(f\"GRB {GRB_iter.current}\\n\")\n",
    "    for title,link in references.items():\n",
    "        print(title+\": \"+link)\n",
    "    display(GRB_button)\n",
    "    clear_output(wait=True)\n",
    "GRB_button.on_click(next_GRB)"
   ]
  },
  {
   "cell_type": "code",
   "execution_count": 5,
   "id": "cardiovascular-junction",
   "metadata": {},
   "outputs": [
    {
     "name": "stdout",
     "output_type": "stream",
     "text": [
      "150423A"
     ]
    }
   ],
   "source": [
    "catalog = {}\n",
    "for i in range(len(GRB_iter)):\n",
    "    references = literature_references(next(GRB_iter))\n",
    "    if len(references) > 0:\n",
    "        catalog[GRB_iter.current] = references\n",
    "    print(\"\\r\"+GRB_iter.current,end=\"\")"
   ]
  },
  {
   "cell_type": "code",
   "execution_count": 10,
   "id": "parental-coordinator",
   "metadata": {},
   "outputs": [],
   "source": [
    "with open(\"./products/literature_catalog.json\",\"w+\") as file:\n",
    "    json.dump(catalog,file)"
   ]
  },
  {
   "cell_type": "code",
   "execution_count": null,
   "id": "least-industry",
   "metadata": {},
   "outputs": [],
   "source": []
  }
 ],
 "metadata": {
  "hide_input": false,
  "kernelspec": {
   "display_name": "Python 3",
   "language": "python",
   "name": "python3"
  },
  "language_info": {
   "codemirror_mode": {
    "name": "ipython",
    "version": 3
   },
   "file_extension": ".py",
   "mimetype": "text/x-python",
   "name": "python",
   "nbconvert_exporter": "python",
   "pygments_lexer": "ipython3",
   "version": "3.8.6"
  },
  "latex_envs": {
   "LaTeX_envs_menu_present": true,
   "autoclose": true,
   "autocomplete": true,
   "bibliofile": "biblio.bib",
   "cite_by": "apalike",
   "current_citInitial": 1,
   "eqLabelWithNumbers": true,
   "eqNumInitial": 1,
   "hotkeys": {
    "equation": "Ctrl-E",
    "itemize": "Ctrl-I"
   },
   "labels_anchors": false,
   "latex_user_defs": false,
   "report_style_numbering": false,
   "user_envs_cfg": false
  },
  "toc": {
   "base_numbering": 1,
   "nav_menu": {},
   "number_sections": true,
   "sideBar": true,
   "skip_h1_title": false,
   "title_cell": "Table of Contents",
   "title_sidebar": "Contents",
   "toc_cell": false,
   "toc_position": {},
   "toc_section_display": true,
   "toc_window_display": false
  },
  "varInspector": {
   "cols": {
    "lenName": 16,
    "lenType": 16,
    "lenVar": 40
   },
   "kernels_config": {
    "python": {
     "delete_cmd_postfix": "",
     "delete_cmd_prefix": "del ",
     "library": "var_list.py",
     "varRefreshCmd": "print(var_dic_list())"
    },
    "r": {
     "delete_cmd_postfix": ") ",
     "delete_cmd_prefix": "rm(",
     "library": "var_list.r",
     "varRefreshCmd": "cat(var_dic_list()) "
    }
   },
   "types_to_exclude": [
    "module",
    "function",
    "builtin_function_or_method",
    "instance",
    "_Feature"
   ],
   "window_display": false
  }
 },
 "nbformat": 4,
 "nbformat_minor": 5
}
