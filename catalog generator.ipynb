{
 "cells": [
  {
   "cell_type": "markdown",
   "id": "thrown-thread",
   "metadata": {},
   "source": [
    "# Catalog generators\n",
    "\n",
    "**Caden Gobat**, The George Washington University"
   ]
  },
  {
   "cell_type": "code",
   "execution_count": null,
   "id": "several-computer",
   "metadata": {},
   "outputs": [],
   "source": [
    "import pandas as pd\n",
    "from code.utilities import split_filters\n",
    "from code.xrt import XRT_lightcurve, get_photonIndex, get_temporalIndex, get_columnDensity\n",
    " \n",
    "alpha = \"ABCDEFGHIJKLMNOPQRSTUVWXYZ\"\n",
    "alpha += alpha.lower()\n",
    "numeric = \".0123456789\""
   ]
  },
  {
   "cell_type": "markdown",
   "id": "forward-harris",
   "metadata": {},
   "source": [
    "## Short GRB sample"
   ]
  },
  {
   "cell_type": "code",
   "execution_count": null,
   "id": "divine-model",
   "metadata": {},
   "outputs": [],
   "source": [
    "swift = pd.read_html(\"https://swift.gsfc.nasa.gov/archive/grb_table/fullview/\")[0] # get latest Swift catalog\n",
    "swift.columns = [col[0] for col in swift.columns] # reduce/flatten MultiIndex\n",
    "for grb in swift[swift[\"TriggerNumber\"].apply(pd.to_numeric,errors=\"coerce\").isna()][\"GRB\"]: # non-Swift bursts\n",
    "    bat_data = pd.read_html(f\"https://swift.gsfc.nasa.gov/archive/grb_table/fullview/{grb}/\")[0]\n",
    "    T90 = bat_data.loc[bat_data[0]==\"T90: c\",1].values # get the T90 anyway, if it exists\n",
    "    swift.loc[swift[\"GRB\"]==grb,\"BAT T90[sec]\"] = pd.to_numeric(T90, errors=\"coerce\")"
   ]
  },
  {
   "cell_type": "code",
   "execution_count": null,
   "id": "above-homework",
   "metadata": {},
   "outputs": [],
   "source": [
    "valid = ['050509B', '050724', '051103', '051105', '051114', '051211A', '051221', '060427B',\n",
    "         '060429', '060502B', '070124', '070201', '070429B', '070714B', '070810B', '071112B',\n",
    "         '080905', '080913', '081211B', '081216', '081223', '090531B', '090715A', '090916A',\n",
    "         '090927A', '091117A', '091126B', '100213A', '100216A', '100816A', '110402A', '110802A',\n",
    "         '120811B', '120830A', '140428B', '140604A', '150118C', '150424A', '150906B', '150922A',\n",
    "         '151221A', '160111A', '160219A', '160406A', '160620A', '160709A', '160820A', '160822A',\n",
    "         '160825A', '160829A', '161004A', '170127C', '170206A', '170219A', '170220A', '170222A',\n",
    "         '170403A', '170616A', '170708A', '170728B', '170805A', '170805B', '170816A', '170817A',\n",
    "         '170822A', '170825A', '170826A', '170827A', '170827B', '170921B', '171030A', '171103A',\n",
    "         '171106A', '171223A', '180317A', '180418A', '180529A', '180618A', '180626C', '180715B',\n",
    "         '180716A', '180728B', '180824A', '181121A', '181126B', '181222B', '181225A', '190121A',\n",
    "         '190206A', '190331C', '190606A', '190626B', '190630A', '190719C', '190724A', '190810A',\n",
    "         '190813A', '190830B', '190831B', '190903A', '190913A', '191017C', '191101B', '191116A',\n",
    "         '191203A', '191221A', '200103A', '200128A', '200128B', '200129A', '200212A', '200219A',\n",
    "         '200221A', '200224C', '200306B', '200307A', '200308A', '200313B', '200325A', '200327A',\n",
    "         '200401A', '200405B', '200420A', '200423A', '200501A', '200506B', '200509B', '200514B',\n",
    "         '200521A', '200605A', '200623B', '200626A', '200703A', '200706A', '200710A', '200714B',\n",
    "         '200716C', '200718A', '200805A', '200815A', '200817A', '200824A', '200826A', '200903C',\n",
    "         '200907A', '200908A', '200916B', '200920A', '200920B', '200923A', '200928A', '201103A',\n",
    "         '201108A', '201109A', '201111A', '201130A', '201214B', '201221B', '201222A', '201227A',\n",
    "         '210124B', '210205B', '210307B', '210326A', '210410A', '210421C', '210424B', '210425A',\n",
    "         '210506A', '210510A', '210529A', '210529B', '210601A', '210605A'] # flagged from GCN Circulars\n",
    "\n",
    "valid += ['050202', '050509B', '050709', '050724A', '050813', '050906', '050925',\n",
    "          '051210', '051221A', '060121', '060313', '060502B', '060801', '061006',\n",
    "          '061201', '061210', '061217', '070209', '070406', '070429B', '070707',\n",
    "          '070714B', '070724A', '070729', '070809', '070810B', '071017', '071112B',\n",
    "          '071227', '080121', '080123', '080426', '080503', '080702A', '080905A',\n",
    "          '080919', '081024A', '081024B', '081226A', '081226B', '090305', '090305A',\n",
    "          '090426', '090426A', '090510', '090515', '090607', '090621B', '090916',\n",
    "          '091109B', '091117', '100117A', '100206A', '100213', '100625A', '100628A',\n",
    "          '100702A', '101219A', '101224A', '110112A', '110112B', '110420B', '111020A',\n",
    "          '111117A', '111121A', '111222A', '120229A', '120305A', '120521A', '120630A',\n",
    "          '120804A', '120817B', '121226A', '130313A', '130515A', '130603B', '130626A',\n",
    "          '130716A', '130822A', '130912A', '131004A', '131125A', '131126A', '131224A',\n",
    "          '140129B', '140320A', '140402A', '140414A', '140516A', '140606A', '140619B',\n",
    "          '140622A', '140903A', '140930B', '141202A', '141205A', '141212A', '150101A',\n",
    "          '150101B', '150120A', '150301A'] # Fong, et al.\n",
    "\n",
    "valid += ['130313A', '130822A', '130912A', '140903A', '141212A', '150120A', '150423A',\n",
    "          '150831A', '160303A', '160408A', '160410A', '160411A', '160601A', '160612A',\n",
    "          '160624A', '161001A', '170112A', '170127B', '170428A', '170524A', '180715A',\n",
    "          '180718A', '180727A', '180805B', '181126A', '190427A', '191031D', '200623A',\n",
    "          '201221D'] # Rastinejad, et al."
   ]
  },
  {
   "cell_type": "code",
   "execution_count": null,
   "id": "medical-partnership",
   "metadata": {},
   "outputs": [],
   "source": [
    "sGRBs = swift[(swift[\"BAT T90[sec]\"].apply(pd.to_numeric, errors=\"coerce\") <= 2) | swift[\"GRB\"].isin(valid)].copy() # filter catalog for GRBs with a valid T90 that is <2s"
   ]
  },
  {
   "cell_type": "code",
   "execution_count": null,
   "id": "dated-magazine",
   "metadata": {
    "tags": []
   },
   "outputs": [],
   "source": [
    "# format columns\n",
    "sGRBs.drop(['Time[UT]', 'BAT RA(J2000)', 'BAT Dec(J2000)', 'BAT 90%Error Radius[arcmin]',\n",
    "            'BAT Fluence(15-150 keV)[10-7 erg/cm2]', 'BAT Fluence90% Error(15-150 keV)[10-7 erg/cm2]',\n",
    "            'BAT 1-sec PeakPhoton Flux(15-150 keV)[ph/cm2/sec]', 'BAT 1-sec PeakPhoton Flux90% Error(15-150 keV)[ph/cm2/sec]',\n",
    "            'BAT Photon Index(15-150 keV)(PL = simple power-law,CPL = cutoff power-law)',\n",
    "            'BAT Photon Index90% Error(15-150 keV)', 'XRT 90%Error Radius[arcsec]', 'XRT Column Density(NH)[1021 cm-2]',\n",
    "            'XRT Early Flux(0.3-10 keV)[10-11 erg/cm2/s]', 'XRT 11 Hour Flux(0.3-10 keV)[10-11 erg/cm2/s]',\n",
    "            'XRT 24 Hour Flux(0.3-10 keV)[10-11 erg/cm2/s]', 'UVOT RA(J2000)', 'UVOT Dec(J2000)', 'UVOT 90%Error Radius[arcsec]',\n",
    "            'Host Galaxy', 'Comments', 'References', 'Burst Advocate'],axis=1,inplace=True) # already in master catalog\n",
    "sGRBs.rename(columns={'XRT Time to FirstObservation[sec]':'XRT dt [sec]','XRT InitialTemporalIndex':\"α\",\n",
    "                      'XRTSpectral Index(Gamma)':'Γ','UVOT Time toFirst Observation[sec]':'UVOT dt [sec]',\n",
    "                      'UVOT Other FilterMagnitudes':'Other UVOT Filters',\"XRT RA(J2000)\":\"RA\",\"XRT Dec(J2000)\":\"Dec\"},inplace=True)"
   ]
  },
  {
   "cell_type": "code",
   "execution_count": null,
   "id": "daily-arabic",
   "metadata": {
    "tags": []
   },
   "outputs": [],
   "source": [
    "optical_obs = []\n",
    "for idx,entry in sGRBs[\"Other UVOT Filters\"].iteritems():\n",
    "    if pd.isna(entry):\n",
    "        entries = []\n",
    "    else:\n",
    "        entries = split_filters(entry)\n",
    "    try:\n",
    "        filterdict = dict([entry.split(\">\") if \">\" in entry else entry.split(\"=\") if \"=\" in entry else None for entry in entries])\n",
    "        filterdict[\"idx\"] = idx\n",
    "        optical_obs.append(filterdict)\n",
    "    except:\n",
    "        print(\"error\",idx,end=\"; \")\n",
    "\n",
    "for obs in optical_obs:\n",
    "    sGRBs.loc[obs[\"idx\"], \"Other UVOT Filters\"] = [obs.copy()]"
   ]
  },
  {
   "cell_type": "code",
   "execution_count": null,
   "id": "accepting-military",
   "metadata": {},
   "outputs": [],
   "source": [
    "sGRBs[\"Redshift\"] = [\"\".join([char for char in entry if char in numeric]) if type(entry) is str else entry for entry in sGRBs[\"Redshift\"]]"
   ]
  },
  {
   "cell_type": "code",
   "execution_count": null,
   "id": "senior-commander",
   "metadata": {},
   "outputs": [],
   "source": [
    "sGRBs.to_csv(\"./products/Swift_sGRB_catalog.csv\")"
   ]
  },
  {
   "cell_type": "markdown",
   "id": "confirmed-stomach",
   "metadata": {},
   "source": [
    "## *Swift*-XRT lightcurves"
   ]
  },
  {
   "cell_type": "code",
   "execution_count": null,
   "id": "sticky-graphics",
   "metadata": {},
   "outputs": [],
   "source": [
    "xrt_data = pd.DataFrame(columns=['Time', 'Tpos', 'Tneg', 'Flux', 'Fluxpos', 'Fluxneg', 'GRB'])\n",
    "for i,row in sGRBs.iterrows():\n",
    "    GRB_ID = row[\"GRB\"]\n",
    "    print(GRB_ID+\" \"*(7-len(GRB_ID)),end=\": \")\n",
    "    mode = None\n",
    "    try:\n",
    "        Gamma,mode = get_photonIndex(GRB_ID,sGRBs)\n",
    "        sGRBs.loc[i,\"Beta_X\"] = Gamma.value - 1\n",
    "        sGRBs.loc[i,\"Beta_X_neg\"] = Gamma.minus\n",
    "        sGRBs.loc[i,\"Beta_X_pos\"] = Gamma.plus\n",
    "        print(\"index ✓\",end=\", \")\n",
    "    except:\n",
    "        print(\"index ✗\",end=\", \")\n",
    "    try:\n",
    "        fluxdata = XRT_lightcurve(GRB_ID,sGRBs)\n",
    "        xrt_data = xrt_data.append(fluxdata,ignore_index=True)\n",
    "        print(\"lightcurve ✓\",end=\" \")\n",
    "    except:\n",
    "        print(\"lightcurve ✗\",end=\" \")\n",
    "    if mode==\"WT\":\n",
    "        print(\"(used WT spectrum)\")\n",
    "    else:\n",
    "        print()\n",
    "        \n",
    "# account for upper limits\n",
    "xrt_data.loc[xrt_data[\"Fluxneg\"]==0, \"Fluxneg\"] = np.inf"
   ]
  },
  {
   "cell_type": "code",
   "execution_count": null,
   "id": "supreme-print",
   "metadata": {},
   "outputs": [],
   "source": [
    "xrt_data.to_csv(\"./products/Swift_XRT_lightcurves.csv\")"
   ]
  }
 ],
 "metadata": {
  "kernelspec": {
   "display_name": "Python 3",
   "language": "python",
   "name": "python3"
  },
  "language_info": {
   "codemirror_mode": {
    "name": "ipython",
    "version": 3
   },
   "file_extension": ".py",
   "mimetype": "text/x-python",
   "name": "python",
   "nbconvert_exporter": "python",
   "pygments_lexer": "ipython3",
   "version": "3.9.1"
  },
  "toc": {
   "base_numbering": 1,
   "nav_menu": {},
   "number_sections": true,
   "sideBar": true,
   "skip_h1_title": false,
   "title_cell": "Table of Contents",
   "title_sidebar": "Contents",
   "toc_cell": false,
   "toc_position": {},
   "toc_section_display": true,
   "toc_window_display": false
  }
 },
 "nbformat": 4,
 "nbformat_minor": 5
}
