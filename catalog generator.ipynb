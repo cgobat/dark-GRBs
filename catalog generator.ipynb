{
 "cells": [
  {
   "cell_type": "markdown",
   "id": "adverse-processor",
   "metadata": {},
   "source": [
    "# Catalog generators\n",
    "\n",
    "**Caden Gobat**, The George Washington University"
   ]
  },
  {
   "cell_type": "code",
   "execution_count": 1,
   "id": "prerequisite-alloy",
   "metadata": {},
   "outputs": [],
   "source": [
    "import pandas as pd, numpy as np, requests\n",
    "from bs4 import BeautifulSoup as bs\n",
    "from src.utilities import split_filters\n",
    "from src.xrt import XRT_lightcurve, get_photonIndex, get_temporalIndex, get_columnDensity, grb_list\n",
    "\n",
    "alpha = \"ABCDEFGHIJKLMNOPQRSTUVWXYZ\"\n",
    "alpha += alpha.lower()\n",
    "numeric = \".0123456789\""
   ]
  },
  {
   "cell_type": "markdown",
   "id": "extended-things",
   "metadata": {},
   "source": [
    "## Short GRB sample"
   ]
  },
  {
   "cell_type": "code",
   "execution_count": 2,
   "id": "charming-upset",
   "metadata": {},
   "outputs": [],
   "source": [
    "swift = pd.read_html(\"https://swift.gsfc.nasa.gov/archive/grb_table/fullview/\",\n",
    "                     attrs={\"class\":\"grbtable\"}).pop() # get latest Swift catalog\n",
    "swift.columns = [col[0] for col in swift.columns] # reduce/flatten MultiIndex\n",
    "swift.drop(swift[swift[\"GRB\"].str.startswith(\"22\")|swift[\"GRB\"].str.startswith(\"23\")].index, inplace=True) # scope of this work is only up through 2021\n",
    "swift[\"Trigger Number\"] = swift[\"Trigger Number\"].apply(lambda tn: int(val) if (val:=str(tn).strip(\"*\")).isnumeric() else val)\n",
    "# swift[\"BAT T90 [sec]\"] = swift[\"BAT T90 [sec]\"].apply(pd.to_numeric, errors=\"coerce\")"
   ]
  },
  {
   "cell_type": "code",
   "execution_count": 3,
   "id": "formed-bahrain",
   "metadata": {},
   "outputs": [],
   "source": [
    "for i, grb in swift.loc[pd.to_numeric(swift[\"Trigger Number\"], errors=\"coerce\").isna(), \"GRB\"].items(): # non-Swift bursts\n",
    "    if pd.isna(swift.loc[i, \"BAT T90 [sec]\"]):\n",
    "        bat_data = pd.read_html(f\"https://swift.gsfc.nasa.gov/archive/grb_table/fullview/{grb}/\")[0]\n",
    "        T90 = bat_data.loc[bat_data[0]==\"T90: c\",1].values # get the T90 anyway, if it exists\n",
    "        swift.loc[swift[\"GRB\"]==grb,\"BAT T90 [sec]\"] = pd.to_numeric(T90, errors=\"coerce\")"
   ]
  },
  {
   "cell_type": "code",
   "execution_count": 4,
   "id": "reverse-solid",
   "metadata": {
    "scrolled": true
   },
   "outputs": [],
   "source": [
    "for i,row in swift.iterrows():\n",
    "    print()\n",
    "    print(row[\"GRB\"],end=\": \")\n",
    "    print(row[\"BAT T90 [sec]\"], end=\" \")\n",
    "    try:\n",
    "        trig = int(row[\"Trigger Number\"])\n",
    "    except ValueError:\n",
    "        if row[\"GRB\"] in grb_list[\"GRB\"]:\n",
    "            trig = int(grb_list.loc[grb_list[\"GRB\"]==row[\"GRB\"], \"Trigger Number\"])\n",
    "        else:\n",
    "            real_t90 = np.nan\n",
    "            continue\n",
    "    url = f\"https://gcn.gsfc.nasa.gov/notices_s/{trig}/BA/\"\n",
    "    try:\n",
    "        page = requests.get(url)\n",
    "        soup = bs(page.content,\"html.parser\")\n",
    "        lines = soup.find(\"pre\").text.split(\"\\n\")\n",
    "        t90_line = [line.strip() for line in lines if \"T90\" in line]\n",
    "        assert len(t90_line)\n",
    "        real_t90 = pd.to_numeric(t90_line[0].split()[1])\n",
    "        \n",
    "    except:\n",
    "        real_t90 = np.nan\n",
    "        continue\n",
    "    swift.loc[i,\"T90\"] = round(real_t90,3)\n",
    "\n",
    "for i,row in swift.iterrows():\n",
    "    if pd.notna(row[\"T90\"]):\n",
    "        print(row[\"T90\"])\n",
    "        continue\n",
    "    else:\n",
    "        try:\n",
    "            swift.loc[i,\"T90\"] = pd.to_numeric(swift.loc[i,\"BAT T90 [sec]\"], errors=\"coerce\")\n",
    "        except:\n",
    "            pass"
   ]
  },
  {
   "cell_type": "code",
   "execution_count": 5,
   "id": "wrapped-yahoo",
   "metadata": {},
   "outputs": [],
   "source": [
    "XRT_obs = pd.read_csv(\"./products/all_XRT_observations.csv\")[\"GRB\"].tolist()\n",
    "\n",
    "GCN_flagged = ['040924' , '051227' , '051221' , '051211' , '051210' , '051114' , '051105' , '051103' ,\n",
    "               '050925' , '050815' , '050813' , '050724' , '050709' , '050603' , '050509' , '061217' ,\n",
    "               '061210' , '061201' , '061021' , '061006' , '060912' , '060801' , '060717' , '060502' ,\n",
    "               '060429' , '060427' , '060313' , '060121' , '071227' , '071112' , '071017' , '070923' ,\n",
    "               '070810' , '070809' , '070729' , '070724' , '070714' , '070707' , '070610' , '070429' ,\n",
    "               '070406' , '070209' , '070208' , '070201' , '070124' , '081226B', '081226A', '081223' ,\n",
    "               '081216' , '081211B', '081211' , '081105' , '081024B', '081024A', '080919' , '080913' ,\n",
    "               '080905' , '080503' , '080426' , '080413' , '080123' , '080121' , '091126B', '091126A',\n",
    "               '091117A', '091109B', '090929A', '090927A', '090916A', '090831A', '090715A', '090621B',\n",
    "               '090621A', '090607' , '090531B', '090515' , '090510' , '090426' , '090423' , '090417A',\n",
    "               '101224A', '101219A', '101129A', '100816A', '100724A', '100703A', '100702A', '100628A',\n",
    "               '100625A', '100216A', '100213A', '100206A', '100117A', '111222A', '111121A', '111117A',\n",
    "               '111026A', '111020A', '110802A', '110715A', '110420B', '110402A', '110112B', '110112A',\n",
    "               '110106A', '121226A', '120830A', '120817B', '120811B', '120804A', '120630A', '120521A',\n",
    "               '120403A', '120305A', '120229A', '131224A', '131126A', '131125A', '131004A', '131002A',\n",
    "               '130912A', '130822A', '130716A', '130626A', '130603B', '130515A', '130313A', '141212A',\n",
    "               '141205A', '141202A', '141102A', '140930B', '140903A', '140831A', '140622A', '140619B',\n",
    "               '140611A', '140606A', '140604A', '140516A', '140428B', '140414A', '140320A', '140209A',\n",
    "               '140129B', '151229A', '151228A', '151221A', '151127A', '150922A', '150906B', '150831A',\n",
    "               '150728A', '150710A', '150424A', '150423A', '150301A', '150120A', '150118C', '150101A',\n",
    "               '161129A', '161104A', '161004A', '161001A', '160927A', '160829A', '160825A', '160822A',\n",
    "               '160821B', '160820A', '160714A', '160709A', '160624A', '160620A', '160612A', '160601A',\n",
    "               '160425A', '160411A', '160410A', '160408A', '160406A', '160307A', '160303A', '160228A',\n",
    "               '160219A', '160111A', '171223A', '171211A', '171106A', '171103A', '171030A', '171007A',\n",
    "               '170921B', '170827B', '170827A', '170826A', '170825A', '170822A', '170817A', '170816A',\n",
    "               '170805B', '170805A', '170728B', '170728A', '170708A', '170616A', '170524A', '170428A',\n",
    "               '170403A', '170325A', '170222A', '170220A', '170219A', '170206A', '170127C', '170127B',\n",
    "               '170112A', '181225A', '181222B', '181126B', '181126A', '181123B', '181121A', '180824A',\n",
    "               '180805B', '180728B', '180727A', '180718A', '180716A', '180715B', '180715A', '180703B',\n",
    "               '180626C', '180618A', '180529A', '180523B', '180418A', '180402A', '180317A', '180204A',\n",
    "               '191221A', '191203A', '191116A', '191101B', '191031D', '191031C', '191017C', '190913A',\n",
    "               '190903A', '190831B', '190830B', '190813A', '190810A', '190724A', '190719C', '190630A',\n",
    "               '190627A', '190626B', '190610A', '190606A', '190427A', '190331C', '190326A', '190206A',\n",
    "               '190121A', '211227A', '211225C', '211224A', '211222A', '211221A', '211207A', '211203A',\n",
    "               '211124A', '211106A', '211104A', '211031A', '211024A', '211023B', '210929A', '210927A',\n",
    "               '210924A', '210923A', '210919B', '210919A', '210909A', '210904A', '210903B', '210822B',\n",
    "               '210727A', '210726A', '210725B', '210708A', '210707A', '210704A', '210622A', '210621A',\n",
    "               '210619A', '210618A', '210605A', '210601A', '210529B', '210529A', '210528A', '210510A',\n",
    "               '210506A', '210424B', '210425A', '210421C', '210421B', '210413B', '210410A', '210326A',\n",
    "               '210323A', '210307B', '210217A', '210205B', '210124B', '210119A', '201227A', '201222A',\n",
    "               '201221D', '201221B', '201221A', '201214B', '201130A', '201111A', '201109A', '201108A',\n",
    "               '201103A', '201015A', '201010A', '201006A', '200928A', '200923A', '200920B', '200920A',\n",
    "               '200916B', '200917A', '200908A', '200907B', '200907A', '200903C', '200826A', '200824A',\n",
    "               '200815A', '200817A', '200805A', '200729A', '200718A', '200716C', '200714B', '200710A',\n",
    "               '200704A', '200706A', '200703A', '200701A', '200626A', '200623B', '200623A', '200605A',\n",
    "               '200522A', '200521A', '200517A', '200514B', '200512A', '200509B', '200506B', '200501A',\n",
    "               '200423A', '200420A', '200415A', '200411A', '200409A', '200405B', '200401A', '200327A',\n",
    "               '200325A', '200313B', '200308A', '200307A', '200306B', '200224C', '200221A', '200219A',\n",
    "               '200212A', '200203A', '200129A', '200128B', '200128A', '200103A'] # flagged GCNs\n",
    "\n",
    "ruled_out = [\"050603\" , \"050815\" , \"051227\" , \"060717\" , \"061021\" , \"070208\" , \"080426\" , \"100724A\",\n",
    "             \"110715A\", \"131002A\", \"140129B\", \"140209A\", \"160228A\", \"191031C\", \"201221A\", \"210707A\",\n",
    "             \"210708A\", \"210923A\", \"211203A\", \"211207A\", \"211221A\"]\n",
    "\n",
    "GCN_flagged = np.setdiff1d(np.intersect1d(GCN_flagged,XRT_obs), ruled_out)\n",
    "\n",
    "class_tbl = pd.read_csv(\"./data/Jespersen_Table1.csv\")\n",
    "jesp = [name[3:] for name in class_tbl.loc[class_tbl[\"Class\"]==\"S\", \"GRB\"]]\n",
    "\n",
    "published = ['050202' , '050509B', '050709' , '050724A', '050813' , '050906' , '050925' , '051210',\n",
    "             '051221A', '060121' , '060313' , '060502B', '060801' , '061006' , '061201' , '061210' ,\n",
    "             '061217' , '070209' , '070406' , '070429B', '070707' , '070714B', '070724A', '070729' ,\n",
    "             '070809' , '070810B', '071017' , '071112B', '071227' , '080121' , '080123' , '080426' ,\n",
    "             '080503' , '080702A', '080905A', '080919' , '081024A', '081024B', '081226A', '081226B',\n",
    "             '090305' , '090305A', '090426' , '090426A', '090510' , '090515' , '090607' , '090621B',\n",
    "             '090916' , '091109B', '091117' , '100117A', '100206A', '100213' , '100625A', '100628A',\n",
    "             '100702A', '101219A', '101224A', '110112A', '110112B', '110420B', '111020A', '111117A',\n",
    "             '111121A', '111222A', '120229A', '120305A', '120521A', '120630A', '120804A', '120817B',\n",
    "             '121226A', '130313A', '130515A', '130603B', '130626A', '130716A', '130822A', '130912A',\n",
    "             '131004A', '131125A', '131126A', '131224A', '140129B', '140320A', '140402A', '140414A',\n",
    "             '140516A', '140606A', '140619B', '140622A', '140903A', '140930B', '141202A', '141205A',\n",
    "             '141212A', '150101A', '150101B', '150120A', '150301A'] # Fong, et al.\n",
    "\n",
    "published += ['130313A', '130822A', '130912A', '140903A', '141212A', '150120A', '150423A', '150831A',\n",
    "              '160303A', '160408A', '160410A', '160411A', '160601A', '160612A', '160624A', '161001A',\n",
    "              '170112A', '170127B', '170428A', '170524A', '180715A', '180718A', '180727A', '180805B',\n",
    "              '181126A', '190427A', '191031D', '200623A', '201221D'] # Rastinejad, et al."
   ]
  },
  {
   "cell_type": "code",
   "execution_count": 6,
   "id": "backed-stranger",
   "metadata": {},
   "outputs": [],
   "source": [
    "sGRBs = swift[(swift[\"T90\"].apply(pd.to_numeric, errors=\"coerce\") <= 2) | swift[\"GRB\"].isin(GCN_flagged) | swift[\"GRB\"].isin(published)].copy() # filter catalog for GRBs with a valid T90 that is <2s"
   ]
  },
  {
   "cell_type": "code",
   "execution_count": 7,
   "id": "economic-consultancy",
   "metadata": {
    "tags": []
   },
   "outputs": [],
   "source": [
    "# format columns\n",
    "sGRBs.drop(['Time [UT]', 'BAT RA (J2000)', 'BAT Dec (J2000)', 'BAT 90% Error Radius [arcmin]',\n",
    "            'BAT Fluence (15-150 keV) [10-7 erg/cm2]', 'BAT Fluence 90% Error (15-150 keV) [10-7 erg/cm2]',\n",
    "            'BAT 1-sec Peak Photon Flux (15-150 keV) [ph/cm2/sec]', 'BAT 1-sec Peak Photon Flux 90% Error (15-150 keV) [ph/cm2/sec]',\n",
    "            'BAT Photon Index (15-150 keV) (PL = simple power-law, CPL = cutoff power-law)',\n",
    "            'BAT Photon Index 90% Error (15-150 keV)', 'XRT 90% Error Radius [arcsec]', 'XRT Column Density (NH) [1021 cm-2]',\n",
    "            'XRT Early Flux (0.3-10 keV) [10-11 erg/cm2/s]', 'XRT 11 Hour Flux (0.3-10 keV) [10-11 erg/cm2/s]',\n",
    "            'XRT 24 Hour Flux (0.3-10 keV) [10-11 erg/cm2/s]', 'UVOT RA (J2000)', 'UVOT Dec (J2000)', 'UVOT 90% Error Radius [arcsec]',\n",
    "            'Host Galaxy', 'Comments', 'References', 'Burst Advocate'],axis=1,inplace=True) # already in master catalog\n",
    "sGRBs.rename(columns={'XRT Time to First Observation[sec]':'XRT dt [sec]','XRT Initial Temporal Index':\"α\",\n",
    "                      'XRTSpectral Index (Gamma)':'Γ','UVOT Time to First Observation [sec]':'UVOT dt [sec]',\n",
    "                      'UVOT Other Filter Magnitudes':'Other UVOT Filters',\"XRT RA(J2000)\":\"RA\",\"XRT Dec(J2000)\":\"Dec\"},inplace=True)"
   ]
  },
  {
   "cell_type": "code",
   "execution_count": 8,
   "id": "tracked-princess",
   "metadata": {
    "tags": []
   },
   "outputs": [],
   "source": [
    "optical_obs = []\n",
    "for idx,entry in sGRBs[\"Other UVOT Filters\"].items():\n",
    "    if pd.isna(entry):\n",
    "        entries = []\n",
    "    else:\n",
    "        entries = split_filters(entry)\n",
    "    try:\n",
    "        filterdict = dict([entry.split(\">\") if \">\" in entry else entry.split(\"=\") if \"=\" in entry else None for entry in entries])\n",
    "        filterdict[\"idx\"] = idx\n",
    "        optical_obs.append(filterdict)\n",
    "    except:\n",
    "        print(\"error\",idx,end=\"; \")\n",
    "\n",
    "for obs in optical_obs:\n",
    "    sGRBs.loc[obs[\"idx\"], \"Other UVOT Filters\"] = [obs.copy()]"
   ]
  },
  {
   "cell_type": "code",
   "execution_count": 9,
   "id": "perfect-friday",
   "metadata": {},
   "outputs": [],
   "source": [
    "sGRBs[\"Redshift\"] = [\"\".join([char for char in entry if char in numeric]) if type(entry) is str else entry for entry in sGRBs[\"Redshift\"]]"
   ]
  },
  {
   "cell_type": "markdown",
   "id": "million-running",
   "metadata": {},
   "source": [
    "## *Swift*-XRT lightcurves"
   ]
  },
  {
   "cell_type": "code",
   "execution_count": null,
   "id": "acknowledged-jewelry",
   "metadata": {},
   "outputs": [],
   "source": [
    "xrt_data = pd.DataFrame(columns=['GRB', 'Time', 'Tpos', 'Tneg', 'Flux', 'Fluxpos', 'Fluxneg'])\n",
    "for i,row in sGRBs.iterrows():\n",
    "    GRB_ID = row[\"GRB\"]\n",
    "    print(GRB_ID+\" \"*(7-len(GRB_ID)),end=\": \")\n",
    "    mode = None\n",
    "    try:\n",
    "        Gamma,mode = get_photonIndex(GRB_ID,grb_list)\n",
    "        sGRBs.loc[i,\"Beta_X\"] = Gamma.value - 1\n",
    "        sGRBs.loc[i,\"Beta_X_neg\"] = Gamma.minus\n",
    "        sGRBs.loc[i,\"Beta_X_pos\"] = Gamma.plus\n",
    "        print(\"index ✓\",end=\", \")\n",
    "    except:\n",
    "        print(\"index ✗\",end=\", \")\n",
    "    try:\n",
    "        fluxdata = XRT_lightcurve(GRB_ID,grb_list)\n",
    "        xrt_data = pd.concat([xrt_data, fluxdata],ignore_index=True)\n",
    "        print(\"lightcurve ✓\",end=\" \")\n",
    "    except:\n",
    "        print(\"lightcurve ✗\",end=\" \")\n",
    "    if mode==\"WT\":\n",
    "        print(\"(used WT spectrum)\")\n",
    "    else:\n",
    "        print()\n",
    "\n",
    "# account for upper limits\n",
    "xrt_data.loc[xrt_data[\"Fluxneg\"]==0, \"Fluxneg\"] = np.inf"
   ]
  },
  {
   "cell_type": "code",
   "execution_count": 11,
   "id": "popular-excerpt",
   "metadata": {},
   "outputs": [],
   "source": [
    "sGRBs.to_csv(\"./products/Swift_sGRB_catalog.csv\",index=False)\n",
    "xrt_data.to_csv(\"./products/Swift_XRT_lightcurves.csv\",index=False)"
   ]
  },
  {
   "cell_type": "code",
   "execution_count": null,
   "id": "eight-domain",
   "metadata": {},
   "outputs": [],
   "source": []
  }
 ],
 "metadata": {
  "hide_input": false,
  "kernelspec": {
   "display_name": "Python 3 (ipykernel)",
   "language": "python",
   "name": "python3"
  },
  "language_info": {
   "codemirror_mode": {
    "name": "ipython",
    "version": 3
   },
   "file_extension": ".py",
   "mimetype": "text/x-python",
   "name": "python",
   "nbconvert_exporter": "python",
   "pygments_lexer": "ipython3",
   "version": "3.10.8"
  },
  "latex_envs": {
   "LaTeX_envs_menu_present": true,
   "autoclose": true,
   "autocomplete": true,
   "bibliofile": "biblio.bib",
   "cite_by": "apalike",
   "current_citInitial": 1,
   "eqLabelWithNumbers": true,
   "eqNumInitial": 1,
   "hotkeys": {
    "equation": "Ctrl-E",
    "itemize": "Ctrl-I"
   },
   "labels_anchors": false,
   "latex_user_defs": false,
   "report_style_numbering": false,
   "user_envs_cfg": false
  },
  "toc": {
   "base_numbering": 1,
   "nav_menu": {},
   "number_sections": true,
   "sideBar": true,
   "skip_h1_title": false,
   "title_cell": "Table of Contents",
   "title_sidebar": "Contents",
   "toc_cell": false,
   "toc_position": {},
   "toc_section_display": true,
   "toc_window_display": false
  },
  "varInspector": {
   "cols": {
    "lenName": 16,
    "lenType": 16,
    "lenVar": 40
   },
   "kernels_config": {
    "python": {
     "delete_cmd_postfix": "",
     "delete_cmd_prefix": "del ",
     "library": "var_list.py",
     "varRefreshCmd": "print(var_dic_list())"
    },
    "r": {
     "delete_cmd_postfix": ") ",
     "delete_cmd_prefix": "rm(",
     "library": "var_list.r",
     "varRefreshCmd": "cat(var_dic_list()) "
    }
   },
   "types_to_exclude": [
    "module",
    "function",
    "builtin_function_or_method",
    "instance",
    "_Feature"
   ],
   "window_display": false
  }
 },
 "nbformat": 4,
 "nbformat_minor": 5
}
