{
 "cells": [
  {
   "cell_type": "markdown",
   "metadata": {},
   "source": [
    "# Optically-dark short GRBs"
   ]
  },
  {
   "cell_type": "markdown",
   "metadata": {},
   "source": [
    "## Imports/loading/setup"
   ]
  },
  {
   "cell_type": "code",
   "execution_count": 1,
   "metadata": {},
   "outputs": [],
   "source": [
    "import numpy as np, pandas as pd, matplotlib.pyplot as plt, importlib\n",
    "from astropy.io import votable, ascii\n",
    "from scipy import interpolate\n",
    "from custom_utils import AsymmetricUncertainty\n",
    "\n",
    "alpha = \"ABCDEFGHIJKLMNOPQRSTUVWXYZ\"\n",
    "numeric = \".0123456789\"\n",
    "calc_code = importlib.import_module(\"Calculation Code.main\")\n",
    "graph_code = importlib.import_module(\"Graphing Code.Graphing_Beta_OX\")\n",
    "\n",
    "class custom_iter: # custom iterator class that allows for retrieval of current element w/out advancing\n",
    "    def __init__(self, iterable):\n",
    "        self.iterator = iter(iterable)\n",
    "        self.current = None\n",
    "    def __next__(self):\n",
    "        try:\n",
    "            self.current = next(self.iterator)\n",
    "        except StopIteration:\n",
    "            self.current = None\n",
    "        finally:\n",
    "            return self.current"
   ]
  },
  {
   "cell_type": "code",
   "execution_count": null,
   "metadata": {},
   "outputs": [],
   "source": [
    "swift = pd.read_html(\"https://swift.gsfc.nasa.gov/archive/grb_table/fullview/\")[0] # get latest Swift catalog\n",
    "swift.columns = [col[0] for col in swift.columns] # reduce MultiIndex\n",
    "sGRBs = swift[swift[\"BAT T90[sec]\"].apply(pd.to_numeric, errors=\"coerce\") <= 2] # filter catalog for GRBs with a valid T90 that is <2s"
   ]
  },
  {
   "cell_type": "markdown",
   "metadata": {},
   "source": [
    "## Data parsing and cleanup"
   ]
  },
  {
   "cell_type": "code",
   "execution_count": null,
   "metadata": {
    "tags": []
   },
   "outputs": [],
   "source": [
    "# format columns\n",
    "sGRBs.drop(['Time[UT]', 'BAT RA(J2000)', 'BAT Dec(J2000)', 'BAT 90%Error Radius[arcmin]',\n",
    "            'BAT Fluence(15-150 keV)[10-7 erg/cm2]', 'BAT Fluence90% Error(15-150 keV)[10-7 erg/cm2]',\n",
    "            'BAT 1-sec PeakPhoton Flux(15-150 keV)[ph/cm2/sec]', 'BAT 1-sec PeakPhoton Flux90% Error(15-150 keV)[ph/cm2/sec]',\n",
    "            'BAT Photon Index(15-150 keV)(PL = simple power-law,CPL = cutoff power-law)', 'BAT Photon Index90% Error(15-150 keV)',\n",
    "            'XRT RA(J2000)', 'XRT Dec(J2000)', 'XRT 90%Error Radius[arcsec]', 'XRT Column Density(NH)[1021 cm-2]',\n",
    "            'XRT Early Flux(0.3-10 keV)[10-11 erg/cm2/s]', 'XRT 11 Hour Flux(0.3-10 keV)[10-11 erg/cm2/s]',\n",
    "            'XRT 24 Hour Flux(0.3-10 keV)[10-11 erg/cm2/s]', 'UVOT RA(J2000)', 'UVOT Dec(J2000)', 'UVOT 90%Error Radius[arcsec]',\n",
    "            'Host Galaxy', 'Comments', 'References', 'Burst Advocate'],axis=1,inplace=True) # already in master catalog\n",
    "sGRBs.rename(columns={'XRT Time to FirstObservation[sec]':'XRT dt [sec]',\n",
    "                      'UVOT Time toFirst Observation[sec]':'UVOT dt [sec]',\n",
    "                      'UVOT Other FilterMagnitudes':'Other UVOT Filters'},inplace=True)\n",
    "\n",
    "mags = pd.Series([]) # numerical magnitudes\n",
    "lims = pd.Series([]) # what kind of limit?\n",
    "for idx,mag in sGRBs[\"UVOT Magnitude\"].iteritems():\n",
    "    #print(idx)\n",
    "    try:\n",
    "        mags[idx] = float(mag)\n",
    "        lims[idx] = \"equal\"\n",
    "    except ValueError:\n",
    "        if \">\" in mag:\n",
    "            lims[idx] = \"brightest\"\n",
    "            mags[idx] = float(\"\".join([char for char in mag.split()[0] if char in \"0123456789.\"]))\n",
    "        elif \"=\" in mag:\n",
    "            lims[idx] = \"equal\"\n",
    "            mags[idx] = float(\"\".join([char for char in mag.split()[0] if char in \"0123456789.\"]))\n",
    "        else:\n",
    "            print(mag)\n",
    "            lims[idx] = \"equal\"\n",
    "            mags[idx] = np.nan\n",
    "\n",
    "sGRBs[\"UVOT Vmag\"] = mags\n",
    "sGRBs[\"UVOT Vmag lim\"] = lims"
   ]
  },
  {
   "cell_type": "code",
   "execution_count": null,
   "metadata": {},
   "outputs": [],
   "source": [
    "def split_filters(string):\n",
    "    UVOT_filters = [\"B\",\"U\",\"UVW1\",\"UVM2\",\"UVW2\",\"White\"]\n",
    "    name_idxs = custom_iter([string.index(i) for i in UVOT_filters if i in string])\n",
    "    split_list = [string[name_idxs.current:next(name_idxs)] for i in range(len(UVOT_filters))]\n",
    "    split_list = [item for item in split_list if len(item)>0]\n",
    "    return np.unique(split_list).tolist()"
   ]
  },
  {
   "cell_type": "code",
   "execution_count": null,
   "metadata": {
    "tags": []
   },
   "outputs": [],
   "source": [
    "optical_obs = []\n",
    "for idx,entry in sGRBs[\"Other UVOT Filters\"].iteritems():\n",
    "    if pd.isna(entry):\n",
    "        entries = []\n",
    "    else:\n",
    "        entries = split_filters(entry)\n",
    "    try:\n",
    "        filterdict = dict([entry.split(\">\") if \">\" in entry else entry.split(\"=\") if \"=\" in entry else None for entry in entries])\n",
    "        filterdict[\"idx\"] = idx\n",
    "        optical_obs.append(filterdict)\n",
    "    except:\n",
    "        print(\"error\",idx,end=\"; \")\n",
    "\n",
    "for obs in optical_obs:\n",
    "    sGRBs[\"Other UVOT Filters\"][obs[\"idx\"]] = obs"
   ]
  },
  {
   "cell_type": "code",
   "execution_count": null,
   "metadata": {},
   "outputs": [],
   "source": [
    "sGRBs[\"Redshift\"] = [\"\".join([char for char in entry if char in numeric]) if type(entry) is str else entry for entry in sGRBs[\"Redshift\"]]"
   ]
  },
  {
   "cell_type": "code",
   "execution_count": null,
   "metadata": {},
   "outputs": [],
   "source": [
    "sGRBs.to_csv(\"./Required Files/Files for Loading/Swift_sGRB_catalog.csv\",index=False)\n",
    "sGRBs.head()"
   ]
  },
  {
   "cell_type": "markdown",
   "metadata": {},
   "source": [
    "## Legacy and new data imports"
   ]
  },
  {
   "cell_type": "code",
   "execution_count": null,
   "metadata": {},
   "outputs": [],
   "source": [
    "BetaXData = pd.read_csv(\"./Required Files/Legacy Data/BetaXData.csv\", header=None)\n",
    "BetaXData.columns = [\"GRB\",\"BetaX\",\"Beta_X_pos\",\"Beta_X_neg\"]\n",
    "BetaXData[\"GRB\"] = [entry.split(\"-\")[-1] for entry in BetaXData[\"GRB\"]]\n",
    "\n",
    "OpticalData = pd.read_csv(\"./Required Files/Legacy Data/OpticalData.csv\", header=None)\n",
    "OpticalData.columns = [\"GRB\",\"Time\",\"Observatory\",\"Instrument\",\"Filter\",\"Exposure\",\"F_o\",\"e_F_o\"]\n",
    "OpticalData[\"GRB\"] = [entry.split(\"-\")[-1] for entry in OpticalData[\"GRB\"]]\n",
    "# OpticalData[\"dt\"] = OpticalData[\"dt\"]*60*60\n",
    "\n",
    "XRayData = pd.read_csv(\"./Required Files/Legacy Data/XRayData.csv\", header=None)\n",
    "XRayData.columns = [\"GRB\",\"Time\",\"Exposure\",\"F_x\",\"e_F_x\"]\n",
    "\n",
    "filters = pd.read_csv(\"Required Files/Legacy Data/FilterInfo.csv\", header=None)\n",
    "filters.columns = [\"Observatory\",\"Instrument\",\"Filter\",\"Wavelength\",\"Frequency\"]\n",
    "\n",
    "new_sGRBs = sGRBs[[int(grb[:6]) > 150301 for grb in sGRBs[\"GRB\"]]] # Fong et al. 2015 has data through March 2015, i.e. 150301A"
   ]
  },
  {
   "cell_type": "code",
   "execution_count": null,
   "metadata": {
    "tags": []
   },
   "outputs": [],
   "source": [
    "new_sGRBs"
   ]
  },
  {
   "cell_type": "code",
   "execution_count": null,
   "metadata": {},
   "outputs": [],
   "source": [
    "new_optical = pd.read_excel(\"./Required Files/Files for Loading/newData.xlsx\")\n",
    "\n",
    "for col in [\"GRB\",\"TriggerNumber\",\"Observatory\",\"Instrument\",\"Source\",\"E(B-V)\"]:\n",
    "    for i in new_optical.index:\n",
    "        if pd.isna(new_optical.loc[i,col]):\n",
    "            new_optical.loc[i,col] = new_optical.loc[i-1,col] # deal with merged Excel cells"
   ]
  },
  {
   "cell_type": "markdown",
   "metadata": {},
   "source": [
    "## Retrieve Swift XRT light curve and spectrum"
   ]
  },
  {
   "cell_type": "code",
   "execution_count": null,
   "metadata": {},
   "outputs": [],
   "source": [
    "def XRT_lightcurve(burst_id):\n",
    "    trigger = swift.loc[swift[\"GRB\"] == burst, \"TriggerNumber\"]\n",
    "    lightcurveURL = f\"https://www.swift.ac.uk/xrt_curves/{int(trigger):0>8}/flux.qdp\"\n",
    "    \n",
    "    fluxdata = pd.read_table(lightcurveURL, header=11).apply(pd.to_numeric, errors=\"coerce\").dropna().reset_index(drop=True)\n",
    "    fluxdata.columns = [\"Time\",\"Tpos\",\"Tneg\",\"Flux\",\"Fluxpos\",\"Fluxneg\"]\n",
    "    \n",
    "    return fluxdata\n",
    "\n",
    "\n",
    "def get_BetaX(burst_id):\n",
    "    trigger = swift.loc[swift[\"GRB\"] == burst, \"TriggerNumber\"]\n",
    "    spectrumURL = f\"https://www.swift.ac.uk/xrt_spectra/{int(trigger):0>8}/\"\n",
    "    \n",
    "    spectra_tables = pd.read_html(spectrumURL)\n",
    "    PC_table = spectra_tables[len(spectra_tables)-2]\n",
    "    photon_index = PC_table.loc[PC_table[0]==\"Photon index\",1].values\n",
    "    (Gamma, Gammapos, Gammaneg) = (float(num) for num in \"\".join([char for char in str(photon_index[0]) if char not in \"[]()+-,\"]).split())\n",
    "    \n",
    "    return Gamma, Gammapos, Gammaneg"
   ]
  },
  {
   "cell_type": "code",
   "execution_count": null,
   "metadata": {
    "tags": []
   },
   "outputs": [],
   "source": [
    "burst = \"200411A\"\n",
    "fluxdata = XRT_lightcurve(burst)\n",
    "Gamma, Gammapos, Gammaneg = get_BetaX(burst)"
   ]
  },
  {
   "cell_type": "code",
   "execution_count": null,
   "metadata": {},
   "outputs": [],
   "source": [
    "plt.errorbar(fluxdata.Time,fluxdata.Flux,xerr=np.array(fluxdata.Tneg,fluxdata.Tpos).T,yerr=np.array(fluxdata.Fluxneg,fluxdata.Fluxpos).T,linestyle=\"\",capthick=0)\n",
    "plt.xscale(\"log\")\n",
    "plt.yscale(\"log\")\n",
    "plt.title(\"Swift XRT Lightcurve for GRB %s\\n$\\\\beta_X = %.2f_{-%.2f}^{+%.2f}$\" % (burst,Gamma-1.,Gammaneg,Gammapos))\n",
    "plt.xlabel(\"Time since trigger [s]\")\n",
    "plt.ylabel(\"Flux (0.3-10 keV) [erg/s/cm$^2$]\")\n",
    "plt.grid(linestyle=\"--\")\n",
    "plt.xlim(3e1,1e5)\n",
    "plt.show()"
   ]
  },
  {
   "cell_type": "code",
   "execution_count": null,
   "metadata": {
    "tags": []
   },
   "outputs": [],
   "source": [
    "for i in new_sGRBs.index:\n",
    "    GRB_ID = new_sGRBs.loc[i,\"GRB\"]\n",
    "    \n",
    "    try:\n",
    "        (Gamma, Gammapos, Gammaneg) = get_BetaX(GRB_ID)\n",
    "        fluxdata = XRT_lightcurve(GRB_ID)\n",
    "        \n",
    "        new_sGRBs.loc[i,\"Beta_X\"] = 1. - Gamma\n",
    "        new_sGRBs.loc[i,\"Beta_X_neg\"] = Gammapos\n",
    "        new_sGRBs.loc[i,\"Beta_X_pos\"] = Gammaneg\n",
    "        #print(f\"Found {GRB_ID} at index {i}: {Gamma, Gammapos, Gammaneg}\")\n",
    "        \n",
    "    except:\n",
    "        print(\"Failed to retrieve info for GRB\",GRB_ID)"
   ]
  },
  {
   "cell_type": "markdown",
   "metadata": {},
   "source": [
    "## Correcting for extinction\n",
    "\n",
    "$ A_b = R_b \\cdot E_{B-V} $ for an arbitrary band $b$"
   ]
  },
  {
   "cell_type": "code",
   "execution_count": null,
   "metadata": {},
   "outputs": [],
   "source": [
    "RbTable = pd.read_csv(\"./Required Files/Rb.csv\") # Table 6 from Schlafly & Finkbeiner (2011)\n",
    "Rb = interpolate.interp1d(RbTable[\"lambda_eff\"],RbTable[\"R_b\"]) # function that takes a wavelength [Ang] and returns the corresponding R_b value"
   ]
  },
  {
   "cell_type": "code",
   "execution_count": null,
   "metadata": {},
   "outputs": [],
   "source": [
    "for i in new_optical.index:\n",
    "    try:\n",
    "        new_optical.loc[i,\"Extinction\"] = Rb(new_optical.loc[i,\"λ_eff\"])*new_optical.loc[i,\"E(B-V)\"]\n",
    "    except ValueError:\n",
    "        pass\n",
    "        #print(new_optical.loc[i,\"λ_eff\"])"
   ]
  },
  {
   "cell_type": "markdown",
   "metadata": {},
   "source": [
    "## Putting it all together"
   ]
  },
  {
   "cell_type": "code",
   "execution_count": null,
   "metadata": {},
   "outputs": [],
   "source": [
    "#testcase = calc_code.GRB(burst, )\n",
    "new_optical[~new_optical[\"Mag error\"].apply(pd.to_numeric, errors=\"coerce\").isna()]"
   ]
  },
  {
   "cell_type": "code",
   "execution_count": null,
   "metadata": {
    "tags": []
   },
   "outputs": [],
   "source": [
    "for i in testcase.index:\n",
    "    optical_obs = testcase.loc[i,:]\n",
    "    closest_xray = pd.DataFrame({\"Time\":[np.inf]})\n",
    "    for j in fluxdata.index:\n",
    "        xray_obs = fluxdata.loc[j,:]\n",
    "        if np.abs(float(xray_obs[\"Time\"]) - float(optical_obs[\"Time (s)\"])) < float(closest_xray[\"Time\"]):\n",
    "            closest_xray = xray_obs\n",
    "    print(optical_obs)\n",
    "    print(closest_xray)\n",
    "    print(\"dt\",np.abs(float(xray_obs[\"Time\"]) - float(optical_obs[\"Time (s)\"])))\n",
    "    #print(calc_code.GRB(datapoint[\"GRB\"],))"
   ]
  },
  {
   "cell_type": "code",
   "execution_count": null,
   "metadata": {},
   "outputs": [],
   "source": []
  }
 ],
 "metadata": {
  "hide_input": false,
  "kernelspec": {
   "display_name": "Python 3.6.6 64-bit",
   "language": "python",
   "name": "python36664bit6d048140c2f541d6b3a285d235ba8ba0"
  },
  "language_info": {
   "codemirror_mode": {
    "name": "ipython",
    "version": 3
   },
   "file_extension": ".py",
   "mimetype": "text/x-python",
   "name": "python",
   "nbconvert_exporter": "python",
   "pygments_lexer": "ipython3",
   "version": "3.6.6"
  },
  "latex_envs": {
   "LaTeX_envs_menu_present": true,
   "autoclose": true,
   "autocomplete": true,
   "bibliofile": "biblio.bib",
   "cite_by": "apalike",
   "current_citInitial": 1,
   "eqLabelWithNumbers": true,
   "eqNumInitial": 1,
   "hotkeys": {
    "equation": "Ctrl-E",
    "itemize": "Ctrl-I"
   },
   "labels_anchors": false,
   "latex_user_defs": false,
   "report_style_numbering": false,
   "user_envs_cfg": false
  },
  "toc": {
   "base_numbering": 1,
   "nav_menu": {},
   "number_sections": true,
   "sideBar": true,
   "skip_h1_title": false,
   "title_cell": "Table of Contents",
   "title_sidebar": "Contents",
   "toc_cell": false,
   "toc_position": {},
   "toc_section_display": true,
   "toc_window_display": false
  },
  "varInspector": {
   "cols": {
    "lenName": 16,
    "lenType": 16,
    "lenVar": 40
   },
   "kernels_config": {
    "python": {
     "delete_cmd_postfix": "",
     "delete_cmd_prefix": "del ",
     "library": "var_list.py",
     "varRefreshCmd": "print(var_dic_list())"
    },
    "r": {
     "delete_cmd_postfix": ") ",
     "delete_cmd_prefix": "rm(",
     "library": "var_list.r",
     "varRefreshCmd": "cat(var_dic_list()) "
    }
   },
   "types_to_exclude": [
    "module",
    "function",
    "builtin_function_or_method",
    "instance",
    "_Feature"
   ],
   "window_display": false
  }
 },
 "nbformat": 4,
 "nbformat_minor": 2
}
