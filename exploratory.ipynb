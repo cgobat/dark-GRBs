{
 "cells": [
  {
   "cell_type": "markdown",
   "metadata": {},
   "source": [
    "# Optically-dark short GRBs"
   ]
  },
  {
   "cell_type": "markdown",
   "metadata": {},
   "source": [
    "## Imports, loading, setup"
   ]
  },
  {
   "cell_type": "code",
   "execution_count": 1,
   "metadata": {},
   "outputs": [],
   "source": [
    "import numpy as np, pandas as pd, matplotlib.pyplot as plt, importlib\n",
    "from astropy.io import votable, ascii\n",
    "alpha = \"ABCDEFGHIJKLMNOPQRSTUVWXYZ\"\n",
    "numeric = \".0123456789\"\n",
    "calc_code = importlib.import_module(\"Calculation Code.main\")\n",
    "graph_code = importlib.import_module(\"Graphing Code.Graphing_Beta_OX\")\n",
    "\n",
    "class custom_iter: # custom iterator class that allows for retrieval of current element w/out advancing\n",
    "    def __init__(self, iterator):\n",
    "        self.iterator = iterator\n",
    "        self.current = None\n",
    "    def __next__(self):\n",
    "        try:\n",
    "            self.current = next(self.iterator)\n",
    "        except StopIteration:\n",
    "            self.current = None\n",
    "        finally:\n",
    "            return self.current"
   ]
  },
  {
   "cell_type": "code",
   "execution_count": 2,
   "metadata": {},
   "outputs": [],
   "source": [
    "swift = pd.read_html(\"https://swift.gsfc.nasa.gov/archive/grb_table/fullview/\")[0] # get latest Swift catalog\n",
    "swift.columns = [col[0] for col in swift.columns] # reduce MultiIndex\n",
    "sGRBs = swift[swift[\"BAT T90[sec]\"].apply(pd.to_numeric, errors=\"coerce\") <= 2] # filter catalog for GRBs with T90 under 2 sec"
   ]
  },
  {
   "cell_type": "markdown",
   "metadata": {},
   "source": [
    "## Data parsing and cleanup"
   ]
  },
  {
   "cell_type": "code",
   "execution_count": 13,
   "metadata": {
    "tags": []
   },
   "outputs": [
    {
     "output_type": "error",
     "ename": "KeyError",
     "evalue": "'UVOT Magnitude'",
     "traceback": [
      "\u001b[1;31m---------------------------------------------------------------------------\u001b[0m",
      "\u001b[1;31mKeyError\u001b[0m                                  Traceback (most recent call last)",
      "\u001b[1;32m~\\AppData\\Local\\Programs\\Python\\Python36\\lib\\site-packages\\pandas\\core\\indexes\\base.py\u001b[0m in \u001b[0;36mget_loc\u001b[1;34m(self, key, method, tolerance)\u001b[0m\n\u001b[0;32m   2896\u001b[0m             \u001b[1;32mtry\u001b[0m\u001b[1;33m:\u001b[0m\u001b[1;33m\u001b[0m\u001b[0m\n\u001b[1;32m-> 2897\u001b[1;33m                 \u001b[1;32mreturn\u001b[0m \u001b[0mself\u001b[0m\u001b[1;33m.\u001b[0m\u001b[0m_engine\u001b[0m\u001b[1;33m.\u001b[0m\u001b[0mget_loc\u001b[0m\u001b[1;33m(\u001b[0m\u001b[0mkey\u001b[0m\u001b[1;33m)\u001b[0m\u001b[1;33m\u001b[0m\u001b[0m\n\u001b[0m\u001b[0;32m   2898\u001b[0m             \u001b[1;32mexcept\u001b[0m \u001b[0mKeyError\u001b[0m\u001b[1;33m:\u001b[0m\u001b[1;33m\u001b[0m\u001b[0m\n",
      "\u001b[1;32mpandas\\_libs\\index.pyx\u001b[0m in \u001b[0;36mpandas._libs.index.IndexEngine.get_loc\u001b[1;34m()\u001b[0m\n",
      "\u001b[1;32mpandas\\_libs\\index.pyx\u001b[0m in \u001b[0;36mpandas._libs.index.IndexEngine.get_loc\u001b[1;34m()\u001b[0m\n",
      "\u001b[1;32mpandas\\_libs\\hashtable_class_helper.pxi\u001b[0m in \u001b[0;36mpandas._libs.hashtable.PyObjectHashTable.get_item\u001b[1;34m()\u001b[0m\n",
      "\u001b[1;32mpandas\\_libs\\hashtable_class_helper.pxi\u001b[0m in \u001b[0;36mpandas._libs.hashtable.PyObjectHashTable.get_item\u001b[1;34m()\u001b[0m\n",
      "\u001b[1;31mKeyError\u001b[0m: 'UVOT Magnitude'",
      "\nDuring handling of the above exception, another exception occurred:\n",
      "\u001b[1;31mKeyError\u001b[0m                                  Traceback (most recent call last)",
      "\u001b[1;32m<ipython-input-13-607a6ee66d3c>\u001b[0m in \u001b[0;36m<module>\u001b[1;34m\u001b[0m\n\u001b[0;32m      1\u001b[0m \u001b[0mmags\u001b[0m \u001b[1;33m=\u001b[0m \u001b[0mpd\u001b[0m\u001b[1;33m.\u001b[0m\u001b[0mSeries\u001b[0m\u001b[1;33m(\u001b[0m\u001b[1;33m[\u001b[0m\u001b[1;33m]\u001b[0m\u001b[1;33m)\u001b[0m \u001b[1;31m# numerical magnitudes\u001b[0m\u001b[1;33m\u001b[0m\u001b[0m\n\u001b[0;32m      2\u001b[0m \u001b[0mlims\u001b[0m \u001b[1;33m=\u001b[0m \u001b[0mpd\u001b[0m\u001b[1;33m.\u001b[0m\u001b[0mSeries\u001b[0m\u001b[1;33m(\u001b[0m\u001b[1;33m[\u001b[0m\u001b[1;33m]\u001b[0m\u001b[1;33m)\u001b[0m \u001b[1;31m# what kind of limit?\u001b[0m\u001b[1;33m\u001b[0m\u001b[0m\n\u001b[1;32m----> 3\u001b[1;33m \u001b[1;32mfor\u001b[0m \u001b[0midx\u001b[0m\u001b[1;33m,\u001b[0m\u001b[0mmag\u001b[0m \u001b[1;32min\u001b[0m \u001b[0msGRBs\u001b[0m\u001b[1;33m[\u001b[0m\u001b[1;34m\"UVOT Magnitude\"\u001b[0m\u001b[1;33m]\u001b[0m\u001b[1;33m.\u001b[0m\u001b[0miteritems\u001b[0m\u001b[1;33m(\u001b[0m\u001b[1;33m)\u001b[0m\u001b[1;33m:\u001b[0m\u001b[1;33m\u001b[0m\u001b[0m\n\u001b[0m\u001b[0;32m      4\u001b[0m     \u001b[1;31m#print(idx)\u001b[0m\u001b[1;33m\u001b[0m\u001b[1;33m\u001b[0m\u001b[0m\n\u001b[0;32m      5\u001b[0m     \u001b[1;32mtry\u001b[0m\u001b[1;33m:\u001b[0m\u001b[1;33m\u001b[0m\u001b[0m\n",
      "\u001b[1;32m~\\AppData\\Local\\Programs\\Python\\Python36\\lib\\site-packages\\pandas\\core\\frame.py\u001b[0m in \u001b[0;36m__getitem__\u001b[1;34m(self, key)\u001b[0m\n\u001b[0;32m   2978\u001b[0m             \u001b[1;32mif\u001b[0m \u001b[0mself\u001b[0m\u001b[1;33m.\u001b[0m\u001b[0mcolumns\u001b[0m\u001b[1;33m.\u001b[0m\u001b[0mnlevels\u001b[0m \u001b[1;33m>\u001b[0m \u001b[1;36m1\u001b[0m\u001b[1;33m:\u001b[0m\u001b[1;33m\u001b[0m\u001b[0m\n\u001b[0;32m   2979\u001b[0m                 \u001b[1;32mreturn\u001b[0m \u001b[0mself\u001b[0m\u001b[1;33m.\u001b[0m\u001b[0m_getitem_multilevel\u001b[0m\u001b[1;33m(\u001b[0m\u001b[0mkey\u001b[0m\u001b[1;33m)\u001b[0m\u001b[1;33m\u001b[0m\u001b[0m\n\u001b[1;32m-> 2980\u001b[1;33m             \u001b[0mindexer\u001b[0m \u001b[1;33m=\u001b[0m \u001b[0mself\u001b[0m\u001b[1;33m.\u001b[0m\u001b[0mcolumns\u001b[0m\u001b[1;33m.\u001b[0m\u001b[0mget_loc\u001b[0m\u001b[1;33m(\u001b[0m\u001b[0mkey\u001b[0m\u001b[1;33m)\u001b[0m\u001b[1;33m\u001b[0m\u001b[0m\n\u001b[0m\u001b[0;32m   2981\u001b[0m             \u001b[1;32mif\u001b[0m \u001b[0mis_integer\u001b[0m\u001b[1;33m(\u001b[0m\u001b[0mindexer\u001b[0m\u001b[1;33m)\u001b[0m\u001b[1;33m:\u001b[0m\u001b[1;33m\u001b[0m\u001b[0m\n\u001b[0;32m   2982\u001b[0m                 \u001b[0mindexer\u001b[0m \u001b[1;33m=\u001b[0m \u001b[1;33m[\u001b[0m\u001b[0mindexer\u001b[0m\u001b[1;33m]\u001b[0m\u001b[1;33m\u001b[0m\u001b[0m\n",
      "\u001b[1;32m~\\AppData\\Local\\Programs\\Python\\Python36\\lib\\site-packages\\pandas\\core\\indexes\\base.py\u001b[0m in \u001b[0;36mget_loc\u001b[1;34m(self, key, method, tolerance)\u001b[0m\n\u001b[0;32m   2897\u001b[0m                 \u001b[1;32mreturn\u001b[0m \u001b[0mself\u001b[0m\u001b[1;33m.\u001b[0m\u001b[0m_engine\u001b[0m\u001b[1;33m.\u001b[0m\u001b[0mget_loc\u001b[0m\u001b[1;33m(\u001b[0m\u001b[0mkey\u001b[0m\u001b[1;33m)\u001b[0m\u001b[1;33m\u001b[0m\u001b[0m\n\u001b[0;32m   2898\u001b[0m             \u001b[1;32mexcept\u001b[0m \u001b[0mKeyError\u001b[0m\u001b[1;33m:\u001b[0m\u001b[1;33m\u001b[0m\u001b[0m\n\u001b[1;32m-> 2899\u001b[1;33m                 \u001b[1;32mreturn\u001b[0m \u001b[0mself\u001b[0m\u001b[1;33m.\u001b[0m\u001b[0m_engine\u001b[0m\u001b[1;33m.\u001b[0m\u001b[0mget_loc\u001b[0m\u001b[1;33m(\u001b[0m\u001b[0mself\u001b[0m\u001b[1;33m.\u001b[0m\u001b[0m_maybe_cast_indexer\u001b[0m\u001b[1;33m(\u001b[0m\u001b[0mkey\u001b[0m\u001b[1;33m)\u001b[0m\u001b[1;33m)\u001b[0m\u001b[1;33m\u001b[0m\u001b[0m\n\u001b[0m\u001b[0;32m   2900\u001b[0m         \u001b[0mindexer\u001b[0m \u001b[1;33m=\u001b[0m \u001b[0mself\u001b[0m\u001b[1;33m.\u001b[0m\u001b[0mget_indexer\u001b[0m\u001b[1;33m(\u001b[0m\u001b[1;33m[\u001b[0m\u001b[0mkey\u001b[0m\u001b[1;33m]\u001b[0m\u001b[1;33m,\u001b[0m \u001b[0mmethod\u001b[0m\u001b[1;33m=\u001b[0m\u001b[0mmethod\u001b[0m\u001b[1;33m,\u001b[0m \u001b[0mtolerance\u001b[0m\u001b[1;33m=\u001b[0m\u001b[0mtolerance\u001b[0m\u001b[1;33m)\u001b[0m\u001b[1;33m\u001b[0m\u001b[0m\n\u001b[0;32m   2901\u001b[0m         \u001b[1;32mif\u001b[0m \u001b[0mindexer\u001b[0m\u001b[1;33m.\u001b[0m\u001b[0mndim\u001b[0m \u001b[1;33m>\u001b[0m \u001b[1;36m1\u001b[0m \u001b[1;32mor\u001b[0m \u001b[0mindexer\u001b[0m\u001b[1;33m.\u001b[0m\u001b[0msize\u001b[0m \u001b[1;33m>\u001b[0m \u001b[1;36m1\u001b[0m\u001b[1;33m:\u001b[0m\u001b[1;33m\u001b[0m\u001b[0m\n",
      "\u001b[1;32mpandas\\_libs\\index.pyx\u001b[0m in \u001b[0;36mpandas._libs.index.IndexEngine.get_loc\u001b[1;34m()\u001b[0m\n",
      "\u001b[1;32mpandas\\_libs\\index.pyx\u001b[0m in \u001b[0;36mpandas._libs.index.IndexEngine.get_loc\u001b[1;34m()\u001b[0m\n",
      "\u001b[1;32mpandas\\_libs\\hashtable_class_helper.pxi\u001b[0m in \u001b[0;36mpandas._libs.hashtable.PyObjectHashTable.get_item\u001b[1;34m()\u001b[0m\n",
      "\u001b[1;32mpandas\\_libs\\hashtable_class_helper.pxi\u001b[0m in \u001b[0;36mpandas._libs.hashtable.PyObjectHashTable.get_item\u001b[1;34m()\u001b[0m\n",
      "\u001b[1;31mKeyError\u001b[0m: 'UVOT Magnitude'"
     ]
    }
   ],
   "source": [
    "# format columns\n",
    "sGRBs.drop(['BAT RA(J2000)', 'BAT Dec(J2000)', 'BAT 90%Error Radius[arcmin]',\n",
    "       'BAT Fluence(15-150 keV)[10-7 erg/cm2]', 'BAT Fluence90% Error(15-150 keV)[10-7 erg/cm2]',\n",
    "       'BAT 1-sec PeakPhoton Flux(15-150 keV)[ph/cm2/sec]', 'BAT 1-sec PeakPhoton Flux90% Error(15-150 keV)[ph/cm2/sec]',\n",
    "       'BAT Photon Index(15-150 keV)(PL = simple power-law,CPL = cutoff power-law)', 'BAT Photon Index90% Error(15-150 keV)',\n",
    "       'XRT RA(J2000)', 'XRT Dec(J2000)', 'XRT 90%Error Radius[arcsec]', 'XRT Column Density(NH)[1021 cm-2]'\n",
    "       'UVOT RA(J2000)', 'UVOT Dec(J2000)', 'UVOT 90%Error Radius[arcsec]', 'UVOT Magnitude',\n",
    "       'Host Galaxy', 'Comments', 'References', 'Burst Advocate'],axis=1,inplace=True) # already in master catalog\n",
    "sGRBs.rename(columns={'XRT Time to FirstObservation[sec]':'XRT dt [sec]',\n",
    "                      'UVOT Time toFirst Observation[sec]':'UVOT dt [sec]',\n",
    "                      'UVOT Other FilterMagnitudes':'Other UVOT Filters'},inplace=True)\n",
    "\n",
    "mags = pd.Series([]) # numerical magnitudes\n",
    "lims = pd.Series([]) # what kind of limit?\n",
    "for idx,mag in sGRBs[\"UVOT Magnitude\"].iteritems():\n",
    "    #print(idx)\n",
    "    try:\n",
    "        mags[idx] = float(mag)\n",
    "        lims[idx] = \"equal\"\n",
    "    except ValueError:\n",
    "        if \">\" in mag:\n",
    "            lims[idx] = \"brightest\"\n",
    "            mags[idx] = float(\"\".join([char for char in mag.split()[0] if char in \"0123456789.\"]))\n",
    "        elif \"=\" in mag:\n",
    "            lims[idx] = \"equal\"\n",
    "            mags[idx] = float(\"\".join([char for char in mag.split()[0] if char in \"0123456789.\"]))\n",
    "        else:\n",
    "            print(mag)\n",
    "            lims[idx] = \"equal\"\n",
    "            mags[idx] = np.nan\n",
    "\n",
    "sGRBs[\"UVOT Vmag\"] = mags\n",
    "sGRBs[\"UVOT Vmag lim\"] = lims"
   ]
  },
  {
   "cell_type": "code",
   "execution_count": 4,
   "metadata": {},
   "outputs": [],
   "source": [
    "def split_filters(string):\n",
    "    UVOT_filters = [\"B\",\"U\",\"UVW1\",\"UVM2\",\"UVW2\",\"White\"]\n",
    "    name_idxs = custom_iter(iter([string.index(i) for i in UVOT_filters if i in string]))\n",
    "    split_list = [string[name_idxs.current:next(name_idxs)] for i in range(len(UVOT_filters))]\n",
    "    split_list = [item for item in split_list if len(item)>0]\n",
    "    return np.unique(split_list).tolist()"
   ]
  },
  {
   "cell_type": "code",
   "execution_count": 5,
   "metadata": {
    "tags": []
   },
   "outputs": [
    {
     "output_type": "stream",
     "name": "stdout",
     "text": "178\n306\n485\n526\n574\n603\n685\n818\n1013\n1028\n1094\n1247\n"
    }
   ],
   "source": [
    "optical_obs = []\n",
    "for idx,entry in sGRBs[\"Other UVOT Filters\"].iteritems():\n",
    "    if pd.isna(entry):\n",
    "        entries = []\n",
    "    else:\n",
    "        entries = split_filters(entry)\n",
    "    try:\n",
    "        filterdict = dict([entry.split(\">\") if \">\" in entry else entry.split(\"=\") if \"=\" in entry else None for entry in entries])\n",
    "        filterdict[\"idx\"] = idx\n",
    "        optical_obs.append(filterdict)\n",
    "    except:\n",
    "        print(idx)\n",
    "\n",
    "for obs in optical_obs:\n",
    "    sGRBs[\"Other UVOT Filters\"][obs[\"idx\"]] = obs"
   ]
  },
  {
   "cell_type": "code",
   "execution_count": 6,
   "metadata": {},
   "outputs": [],
   "source": [
    "sGRBs[\"Redshift\"] = [\"\".join([char for char in entry if char in numeric]) if type(entry) is str else entry for entry in sGRBs[\"Redshift\"]]"
   ]
  },
  {
   "cell_type": "code",
   "execution_count": 12,
   "metadata": {},
   "outputs": [
    {
     "output_type": "execute_result",
     "data": {
      "text/plain": "        GRB  Time[UT] TriggerNumber BAT T90[sec] XRT dt [sec]  \\\n18  200522A  11:41:34        973628         0.62        83.42   \n27  200411A  04:29:02        965784         0.22        50.74   \n65  191031D  21:23:31        932608         0.29        88.83   \n95  190627A  11:18:31        911609         1.60       109.76   \n99  190610A  11:27:45        907754         0.62       292300   \n\n   XRT Early Flux(0.3-10 keV)[10-11 erg/cm2/s]  \\\n18                                         NaN   \n27                                         142   \n65                                         NaN   \n95                                        79.8   \n99                                         NaN   \n\n   XRT 11 Hour Flux(0.3-10 keV)[10-11 erg/cm2/s]  \\\n18                                   0.028101185   \n27                                   0.011496498   \n65                                0.000041223156   \n95                                    0.46849824   \n99                                           NaN   \n\n   XRT 24 Hour Flux(0.3-10 keV)[10-11 erg/cm2/s] XRT InitialTemporalIndex  \\\n18                                  0.0165921492                  -0.6754   \n27                                    0.00544167                  -0.9587   \n65                               0.0000087841468                   -1.982   \n95                                    0.36224076                  -0.3297   \n99                                           NaN                      NaN   \n\n    XRTSpectral Index(Gamma)  XRT Column Density(NH)[1021 cm-2] UVOT dt [sec]  \\\n18                   1.38048                           0.445814           448   \n27                   1.76864                           1.473358            58   \n65                   1.88342                           0.657023            93   \n95                   1.95997                           1.807500           115   \n99                       NaN                                NaN        292282   \n\n                                   Other UVOT Filters  \\\n18                       {'White': '19.5', 'idx': 18}   \n27  {'B': '20.3', 'U': '21.0', 'UVM2': '18.1', 'UV...   \n65  {'B': '20.4', 'U': '20.3', 'UVM2': '19.6', 'UV...   \n95                      {'White': '18.15', 'idx': 95}   \n99                                        {'idx': 99}   \n\n                         Other Observatory Detections Redshift  UVOT Vmag  \\\n18  VLA @ 6 GHZ (possibly from host), LCO (1m), Ge...      0.4       17.2   \n27                                        Fermi (GBM)      NaN       18.5   \n65  Fermi (GBM), AGILE (MCAL), Konus-Wind, AstroSa...      NaN       19.9   \n95  NUTTelA-TAO, Montarrenti Observatory (0.53m), ...    1.942        NaN   \n99                 Insight-HXMT/HE, CALET, Konus-Wind      NaN       20.3   \n\n   UVOT Vmag lim  \n18     brightest  \n27     brightest  \n65     brightest  \n95         equal  \n99     brightest  ",
      "text/html": "<div>\n<style scoped>\n    .dataframe tbody tr th:only-of-type {\n        vertical-align: middle;\n    }\n\n    .dataframe tbody tr th {\n        vertical-align: top;\n    }\n\n    .dataframe thead th {\n        text-align: right;\n    }\n</style>\n<table border=\"1\" class=\"dataframe\">\n  <thead>\n    <tr style=\"text-align: right;\">\n      <th></th>\n      <th>GRB</th>\n      <th>Time[UT]</th>\n      <th>TriggerNumber</th>\n      <th>BAT T90[sec]</th>\n      <th>XRT dt [sec]</th>\n      <th>XRT Early Flux(0.3-10 keV)[10-11 erg/cm2/s]</th>\n      <th>XRT 11 Hour Flux(0.3-10 keV)[10-11 erg/cm2/s]</th>\n      <th>XRT 24 Hour Flux(0.3-10 keV)[10-11 erg/cm2/s]</th>\n      <th>XRT InitialTemporalIndex</th>\n      <th>XRTSpectral Index(Gamma)</th>\n      <th>XRT Column Density(NH)[1021 cm-2]</th>\n      <th>UVOT dt [sec]</th>\n      <th>Other UVOT Filters</th>\n      <th>Other Observatory Detections</th>\n      <th>Redshift</th>\n      <th>UVOT Vmag</th>\n      <th>UVOT Vmag lim</th>\n    </tr>\n  </thead>\n  <tbody>\n    <tr>\n      <td>18</td>\n      <td>200522A</td>\n      <td>11:41:34</td>\n      <td>973628</td>\n      <td>0.62</td>\n      <td>83.42</td>\n      <td>NaN</td>\n      <td>0.028101185</td>\n      <td>0.0165921492</td>\n      <td>-0.6754</td>\n      <td>1.38048</td>\n      <td>0.445814</td>\n      <td>448</td>\n      <td>{'White': '19.5', 'idx': 18}</td>\n      <td>VLA @ 6 GHZ (possibly from host), LCO (1m), Ge...</td>\n      <td>0.4</td>\n      <td>17.2</td>\n      <td>brightest</td>\n    </tr>\n    <tr>\n      <td>27</td>\n      <td>200411A</td>\n      <td>04:29:02</td>\n      <td>965784</td>\n      <td>0.22</td>\n      <td>50.74</td>\n      <td>142</td>\n      <td>0.011496498</td>\n      <td>0.00544167</td>\n      <td>-0.9587</td>\n      <td>1.76864</td>\n      <td>1.473358</td>\n      <td>58</td>\n      <td>{'B': '20.3', 'U': '21.0', 'UVM2': '18.1', 'UV...</td>\n      <td>Fermi (GBM)</td>\n      <td>NaN</td>\n      <td>18.5</td>\n      <td>brightest</td>\n    </tr>\n    <tr>\n      <td>65</td>\n      <td>191031D</td>\n      <td>21:23:31</td>\n      <td>932608</td>\n      <td>0.29</td>\n      <td>88.83</td>\n      <td>NaN</td>\n      <td>0.000041223156</td>\n      <td>0.0000087841468</td>\n      <td>-1.982</td>\n      <td>1.88342</td>\n      <td>0.657023</td>\n      <td>93</td>\n      <td>{'B': '20.4', 'U': '20.3', 'UVM2': '19.6', 'UV...</td>\n      <td>Fermi (GBM), AGILE (MCAL), Konus-Wind, AstroSa...</td>\n      <td>NaN</td>\n      <td>19.9</td>\n      <td>brightest</td>\n    </tr>\n    <tr>\n      <td>95</td>\n      <td>190627A</td>\n      <td>11:18:31</td>\n      <td>911609</td>\n      <td>1.60</td>\n      <td>109.76</td>\n      <td>79.8</td>\n      <td>0.46849824</td>\n      <td>0.36224076</td>\n      <td>-0.3297</td>\n      <td>1.95997</td>\n      <td>1.807500</td>\n      <td>115</td>\n      <td>{'White': '18.15', 'idx': 95}</td>\n      <td>NUTTelA-TAO, Montarrenti Observatory (0.53m), ...</td>\n      <td>1.942</td>\n      <td>NaN</td>\n      <td>equal</td>\n    </tr>\n    <tr>\n      <td>99</td>\n      <td>190610A</td>\n      <td>11:27:45</td>\n      <td>907754</td>\n      <td>0.62</td>\n      <td>292300</td>\n      <td>NaN</td>\n      <td>NaN</td>\n      <td>NaN</td>\n      <td>NaN</td>\n      <td>NaN</td>\n      <td>NaN</td>\n      <td>292282</td>\n      <td>{'idx': 99}</td>\n      <td>Insight-HXMT/HE, CALET, Konus-Wind</td>\n      <td>NaN</td>\n      <td>20.3</td>\n      <td>brightest</td>\n    </tr>\n  </tbody>\n</table>\n</div>"
     },
     "metadata": {},
     "execution_count": 12
    }
   ],
   "source": [
    "sGRBs.to_csv(\"./Required Files/Files for Loading/Swift_sGRB_catalog.csv\",index=False)\n",
    "sGRBs.head()"
   ]
  },
  {
   "cell_type": "markdown",
   "metadata": {},
   "source": [
    "## Old data handling"
   ]
  },
  {
   "cell_type": "code",
   "execution_count": 9,
   "metadata": {},
   "outputs": [],
   "source": [
    "BetaXData = pd.read_csv(\"./Required Files/Files for Loading/BetaXData.csv\", header=None)\n",
    "OpticalData = pd.read_csv(\"./Required Files/Files for Loading/OpticalData.csv\", header=None)\n",
    "XRayData = pd.read_csv(\"./Required Files/Files for Loading/XRayData.csv\", header=None)"
   ]
  },
  {
   "cell_type": "code",
   "execution_count": 10,
   "metadata": {
    "tags": []
   },
   "outputs": [
    {
     "output_type": "stream",
     "name": "stdout",
     "text": "['050202' '050509B' '050709' '050724A' '050813' '050906' '050925' '051210'\n '051221A' '060121' '060313' '060502B' '060801' '061006' '061201' '061210'\n '061217' '070209' '070406' '070429B' '070707' '070714B' '070724A'\n '070729' '070809' '070810B' '071017' '071112B' '071227' '080121' '080123'\n '080426' '080503' '080702A' '080905A' '080919' '081024A' '081024B'\n '081226A' '081226B' '090305' '090305A' '090426' '090426A' '090510'\n '090515' '090607' '090621B' '090916' '091109B' '091117' '100117A'\n '100206A' '100213' '100625A' '100628A' '100702A' '101219A' '101224A'\n '110112A' '110112B' '110420B' '111020A' '111117A' '111121A' '111222A'\n '120229A' '120305A' '120521A' '120630A' '120804A' '120817B' '121226A'\n '130313A' '130515A' '130603B' '130626A' '130716A' '130822A' '130912A'\n '131004A' '131125A' '131126A' '131224A' '140129B' '140320A' '140402A'\n '140414A' '140516A' '140606A' '140619B' '140622A' '140903A' '140930B'\n '141202A' '141205A' '141212A' '150101A' '150101B' '150120A' '150301A']\n"
    }
   ],
   "source": [
    "old_ids = np.unique([entry.split(\"-\")[1] for entry in XRayData.iloc[:,0]]+[entry.split(\"-\")[1] for entry in OpticalData.iloc[:,0]]+[entry.split(\"-\")[1] for entry in BetaXData.iloc[:,0]])\n",
    "\n",
    "print(old_ids) # all the GRB IDs that David already looked at in his work\n",
    "\n",
    "#new_sGRBs = sGRBs[~sGRBs[\"GRB\"].isin(old_ids)] # filter such that we're only working with GRBs that David ~didn't~ already look at\n",
    "new_sGRBs = sGRBs[[int(grb[:6]) > 150301 for grb in sGRBs[\"GRB\"]]] # Fong et al. 2015 has data through March 2015, i.e. 150301A"
   ]
  },
  {
   "cell_type": "code",
   "execution_count": 16,
   "metadata": {
    "tags": []
   },
   "outputs": [
    {
     "output_type": "execute_result",
     "data": {
      "text/plain": "         GRB     Time[UT]    TriggerNumber BAT T90[sec] XRT dt [sec]  \\\n18   200522A     11:41:34           973628         0.62        83.42   \n27   200411A     04:29:02           965784         0.22        50.74   \n65   191031D     21:23:31           932608         0.29        88.83   \n95   190627A     11:18:31           911609         1.60       109.76   \n99   190610A     11:27:45           907754         0.62       292300   \n107  190427A     04:34:15           900730          0.3       3735.8   \n113  190326A     07:35:28           895006         0.08          NaN   \n142  181123B     05:33:03           873186         0.26        80.25   \n171  180805A     09:04:49           851829         1.68        86.13   \n173  180727A     14:15:28           850231          1.1          NaN   \n177  180718A     01:57:45  Ground Analysis         0.08       113700   \n178  180715A     18:07:05           848048         0.68       3167.8   \n207  180402A     09:44:59           821103         0.18        79.90   \n223  180204A     02:36:16           808483         1.16        87.17   \n265  170728A     06:53:28           765008         1.25        70.64   \n280  170524A     19:49:15           754322         0.10         60.7   \n285  170428A     09:13:42           750298         0.20        84.63   \n291  170325A  07:56:57.95  Ground Analysis          0.3          NaN   \n306  170127B     15:13:28           735331         0.51        74.68   \n311  170112A     02:02:00           732188         0.06         62.3   \n327  161104A     09:42:26           720568          0.1        58.28   \n339  160927A     18:04:49           713782         0.48        79.49   \n347  160821B     22:29:13           709357         0.48        65.97   \n354  160726A     01:34:07           706052          0.7          NaN   \n356  160714A     02:19:15           704310         0.35       1677.2   \n365  160624A     11:27:01           701288          0.2        73.72   \n370  160601A     14:43:02           688452         0.12        73.97   \n371  160525B     09:25:07           687522         0.29        83.40   \n385  160411A     01:28:51           682339         0.36      3132.28   \n388  160408A     06:25:43           682059         0.32        94.78   \n413  151229A     06:50:27           668689         1.78        86.91   \n415  151228A     03:05:12           668543         0.27       178600   \n419  151205B     21:43:14           666378          1.4       3127.1   \n421  151127A     09:08:49           665268         0.19         79.2   \n449  150831A     10:34:12           653838         1.15        83.44   \n456  150728A     12:51:11           650617         0.83         70.2   \n465  150710A     00:28:02           648437         0.15         49.2   \n485  150423A     06:28:04           638808         0.22        70.12   \n\n    XRT Early Flux(0.3-10 keV)[10-11 erg/cm2/s]  \\\n18                                          NaN   \n27                                          142   \n65                                          NaN   \n95                                         79.8   \n99                                          NaN   \n107                                         NaN   \n113                                         NaN   \n142                                         NaN   \n171                                         NaN   \n173                                         NaN   \n177                                         NaN   \n178                                         NaN   \n207                                         NaN   \n223                                         NaN   \n265                                         NaN   \n280                                         NaN   \n285                                         NaN   \n291                                         NaN   \n306                                         NaN   \n311                                         NaN   \n327                                         295   \n339                                         NaN   \n347                                         145   \n354                                         NaN   \n356                                         NaN   \n365                                         NaN   \n370                                         NaN   \n371                                         NaN   \n385                                         NaN   \n388                                         NaN   \n413                                         NaN   \n415                                         NaN   \n419                                         NaN   \n421                                          10   \n449                                        89.1   \n456                                         NaN   \n465                                         NaN   \n485                                         NaN   \n\n    XRT 11 Hour Flux(0.3-10 keV)[10-11 erg/cm2/s]  \\\n18                                    0.028101185   \n27                                    0.011496498   \n65                                 0.000041223156   \n95                                     0.46849824   \n99                                            NaN   \n107                                           NaN   \n113                                           NaN   \n142                                 0.00113822496   \n171                                    0.03413124   \n173                                0.000006969616   \n177                                           NaN   \n178                                           NaN   \n207                                0.000330097734   \n223                                  0.0354924372   \n265                                  0.0182446226   \n280                                           NaN   \n285                                  0.0042248808   \n291                                           NaN   \n306                                0.000060961815   \n311                                           NaN   \n327                                  0.0175230653   \n339                                   0.006998838   \n347                                0.000013792185   \n354                                           NaN   \n356                                           NaN   \n365                           0.00000000090746033   \n370                                  0.0082632264   \n371                                 0.00197931132   \n385                                  0.0030945745   \n388                                 0.00095306296   \n413                                   0.155631333   \n415                                           NaN   \n419                                           NaN   \n421                                 0.00062750448   \n449                               0.0000084691308   \n456                                           NaN   \n465                                           NaN   \n485                                   0.007539672   \n\n    XRT 24 Hour Flux(0.3-10 keV)[10-11 erg/cm2/s] XRT InitialTemporalIndex  \\\n18                                   0.0165921492                  -0.6754   \n27                                     0.00544167                  -0.9587   \n65                                0.0000087841468                   -1.982   \n95                                     0.36224076                  -0.3297   \n99                                            NaN                      NaN   \n107                                           NaN                      NaN   \n113                                           NaN                      NaN   \n142                                 0.00038064168                   -1.404   \n171                                   0.026692515                  -0.3151   \n173                              0.00000111130944                   -2.353   \n177                                           NaN                      NaN   \n178                                           NaN                      NaN   \n207                                 0.00007264881                    -1.94   \n223                                  0.0148867884                   -1.114   \n265                                  0.0091208606                  -0.8887   \n280                                           NaN                      NaN   \n285                                 0.00189823788                   -1.026   \n291                                           NaN                      NaN   \n306                                0.000014974794                   -1.799   \n311                                           NaN                      NaN   \n327                                  0.0137668523                  -0.3092   \n339                                 0.00319856845                   -1.004   \n347                               0.0000020496432                   -2.444   \n354                                           NaN                      NaN   \n356                                           NaN                      NaN   \n365                          0.000000000047122641                   -3.791   \n370                                  0.0056502732                  -0.4872   \n371                                 0.00070556652                   -1.322   \n385                                 0.00107168394                   -1.359   \n388                                 0.00035952845                    -1.25   \n413                                   0.076804299                  -0.6067   \n415                                           NaN                      NaN   \n419                                           NaN                      NaN   \n421                                 0.00023820183                   -1.242   \n449                              0.00000119437032                   -2.511   \n456                                           NaN                     -0.4   \n465                                           NaN                      NaN   \n485                                  0.0035902482                   -0.951   \n\n     XRTSpectral Index(Gamma)  XRT Column Density(NH)[1021 cm-2]  \\\n18                    1.38048                           0.445814   \n27                    1.76864                           1.473358   \n65                    1.88342                           0.657023   \n95                    1.95997                           1.807500   \n99                        NaN                                NaN   \n107                       NaN                                NaN   \n113                       NaN                                NaN   \n142                   1.98751                           0.388179   \n171                   1.50420                           1.683731   \n173                   1.85342                           2.102351   \n177                       NaN                                NaN   \n178                       NaN                                NaN   \n207                   1.45533                           4.637781   \n223                   1.99449                           7.638420   \n265                   2.21859                           2.677151   \n280                       NaN                                NaN   \n285                   2.97704                           3.852532   \n291                       NaN                                NaN   \n306                   1.56726                           0.201205   \n311                       NaN                                NaN   \n327                   1.35561                           2.998879   \n339                   1.71550                           0.756916   \n347                   2.39723                           0.575275   \n354                       NaN                                NaN   \n356                       NaN                                NaN   \n365                   1.60333                           3.373361   \n370                   2.27694                           1.317676   \n371                   1.90821                           0.656405   \n385                   1.82276                           1.512240   \n388                   2.06621                           1.666459   \n413                   2.05197                           7.235703   \n415                       NaN                                NaN   \n419                       NaN                                NaN   \n421                   2.47081                           2.110660   \n449                   1.63580                           1.414772   \n456                       NaN                                NaN   \n465                       NaN                                NaN   \n485                   1.53257                           0.385306   \n\n    UVOT dt [sec]                                 Other UVOT Filters  \\\n18            448                       {'White': '19.5', 'idx': 18}   \n27             58  {'B': '20.3', 'U': '21.0', 'UVM2': '18.1', 'UV...   \n65             93  {'B': '20.4', 'U': '20.3', 'UVM2': '19.6', 'UV...   \n95            115                      {'White': '18.15', 'idx': 95}   \n99         292282                                        {'idx': 99}   \n107          3737                          {'U': '19.9', 'idx': 107}   \n113           NaN                      {'UVW1': '20.47', 'idx': 113}   \n142            84  {'B': '20.1', 'U': '20.1', 'UVM2': '20.5', 'UV...   \n171            89  {'B': '19.1', 'U': '19.6', 'UVM2': '19.4', 'UV...   \n173            77  {'B': '21.2', 'U': '20.3', 'UVM2': '21.0', 'UV...   \n177           NaN                                       {'idx': 177}   \n178          4312   B>20.U>19.8UVW2>19.5UVM2>19.7UVW2>18.7White>21.0   \n207           140  {'B': '20.2', 'U': '20.3', 'UVW1': '20.4', 'UV...   \n223            92  {'B': '20.7', 'U': '21.1', 'UVM2': '20.8', 'UV...   \n265            74  {'B': '19.7', 'U': '20.0', 'UVM2': '20.6', 'UV...   \n280            67  {'B': '18.7', 'U': '19.5', 'UVM2': '17.3', 'UV...   \n285           740  {'B': '21.0', 'U': '19.5', 'UVM2': '20.', 'UVW...   \n291           NaN                                       {'idx': 291}   \n306           114                                   U>19.9White>21.0   \n311           279  {'B': '20.0', 'U': '20.4', 'UVM2': '20.2', 'UV...   \n327            69  {'UVM2': '21.7', 'UVW1': '19.9', 'UVW2': '19.9...   \n339            85  {'B': '21.5', 'U': '21.1', 'UVM2': '20.5', 'UV...   \n347            76  {'B': '20.2', 'U': '20.6', 'UVM2': '19.5', 'UV...   \n354           NaN                                       {'idx': 354}   \n356          1682  {'B': '20.12', 'U': '20.07', 'UVW1': '20.06', ...   \n365            77  {'B': '20.7', 'U': '20.7', 'UVM2': '20.7', 'UV...   \n370            78  {'B': '18.32', 'UVM2': '17.46', 'UVW1': '17.72...   \n371            88  {'B': '19.8', 'U': '20.0', 'UVM2': '18.2', 'UV...   \n385          3139  {'B': '19.9', 'U': '20.0', 'UVM2': '20.1', 'UV...   \n388            98  {'B': '19.6', 'U': '19.9', 'UVM2': '18.8', 'UV...   \n413            90  {'B': '19.5', 'U': '19.8', 'UVM2': '19.9', 'UV...   \n415           NaN                                       {'idx': 415}   \n419          3131                                       {'idx': 419}   \n421            77  {'UVM2': '20.0', 'UVW1': '20.3', 'UVW2': '21.3...   \n449            88  {'B': '20.4', 'U': '21.0', 'UVM2': '21.3', 'UV...   \n456            75  {'B': '21.1', 'U': '21.0', 'UVM2': '20.2', 'UV...   \n465            53  {'B': '19.1', 'U': '20.0', 'UVM2': '18.2', 'UV...   \n485            73  B>20.9U>20.8UVW1>20.9UVM2>20.8UVW1>21.6white>21.5   \n\n                          Other Observatory Detections Redshift  UVOT Vmag  \\\n18   VLA @ 6 GHZ (possibly from host), LCO (1m), Ge...      0.4      17.20   \n27                                         Fermi (GBM)      NaN      18.50   \n65   Fermi (GBM), AGILE (MCAL), Konus-Wind, AstroSa...      NaN      19.90   \n95   NUTTelA-TAO, Montarrenti Observatory (0.53m), ...    1.942        NaN   \n99                  Insight-HXMT/HE, CALET, Konus-Wind      NaN      20.30   \n107                          Fermi (GBM), CALET (CGBM)      NaN        NaN   \n113                                    Insight-HXMT/HE      NaN        NaN   \n142                                    Insight-HXMT/HE      NaN      19.80   \n171                                                NaN      NaN      18.00   \n173                                        Fermi (GBM)      NaN      19.60   \n177                                        Fermi (GBM)      NaN        NaN   \n178                Fermi (GBM), CALET, Astrosat (CZTI)      NaN      19.10   \n207                            Fermi (GBM), Konus-Wind      NaN      19.20   \n223                            Fermi (GBM), Konus-Wind      NaN      19.00   \n265                                                NaN      NaN      19.10   \n280                                                NaN      NaN      17.90   \n285  Konus-Wind, MPG (2.2m), HJT (1.5m), DCT (4.3m)...      NaN      20.00   \n291                              Fermi (GBM), AZT-33IK      NaN        NaN   \n306                                        Fermi (GBM)      NaN      19.40   \n311                                                NaN      NaN      19.20   \n327                                                NaN      NaN        NaN   \n339  RTT150 (1.5m), TNG (3.6m), MPG (2.2m), NOT (2....      NaN      19.90   \n347  NOT (2.56m), Fermi (GBM), WHT, GTC (10.4m), VL...      NaN      19.10   \n354                            Fermi (GBM), Konus-Wind      NaN        NaN   \n356                                        Fermi (GBM)      NaN      19.67   \n365                                        Fermi (GBM)    0.483      19.50   \n370  NOT, AZT-33IK, GTC, Gemini-North (8m), AbAO (0...      NaN      17.30   \n371                                                NaN      NaN      18.90   \n385                          Fermi (GBM), Gemini-South      NaN      19.40   \n388                   Fermi (GBM), Gemini-North, CALET      NaN      19.40   \n413                                        Fermi (GBM)      NaN      18.80   \n415                                        Fermi (GBM)      NaN        NaN   \n419                                                NaN      NaN        NaN   \n421                                                NaN      NaN        NaN   \n449                               INTEGRAL, Konus-Wind      NaN      19.80   \n456                                                NaN      NaN      19.80   \n465                                         Konus-Wind      NaN      18.10   \n485  MPG (2.2m), Keck I (10m), HJT (1.5m), VLT, UKI...    1.394      20.90   \n\n    UVOT Vmag lim  \n18      brightest  \n27      brightest  \n65      brightest  \n95          equal  \n99      brightest  \n107         equal  \n113         equal  \n142     brightest  \n171     brightest  \n173     brightest  \n177         equal  \n178     brightest  \n207     brightest  \n223     brightest  \n265     brightest  \n280     brightest  \n285     brightest  \n291         equal  \n306     brightest  \n311     brightest  \n327         equal  \n339     brightest  \n347     brightest  \n354         equal  \n356     brightest  \n365     brightest  \n370     brightest  \n371     brightest  \n385     brightest  \n388     brightest  \n413     brightest  \n415         equal  \n419         equal  \n421         equal  \n449     brightest  \n456     brightest  \n465     brightest  \n485     brightest  ",
      "text/html": "<div>\n<style scoped>\n    .dataframe tbody tr th:only-of-type {\n        vertical-align: middle;\n    }\n\n    .dataframe tbody tr th {\n        vertical-align: top;\n    }\n\n    .dataframe thead th {\n        text-align: right;\n    }\n</style>\n<table border=\"1\" class=\"dataframe\">\n  <thead>\n    <tr style=\"text-align: right;\">\n      <th></th>\n      <th>GRB</th>\n      <th>Time[UT]</th>\n      <th>TriggerNumber</th>\n      <th>BAT T90[sec]</th>\n      <th>XRT dt [sec]</th>\n      <th>XRT Early Flux(0.3-10 keV)[10-11 erg/cm2/s]</th>\n      <th>XRT 11 Hour Flux(0.3-10 keV)[10-11 erg/cm2/s]</th>\n      <th>XRT 24 Hour Flux(0.3-10 keV)[10-11 erg/cm2/s]</th>\n      <th>XRT InitialTemporalIndex</th>\n      <th>XRTSpectral Index(Gamma)</th>\n      <th>XRT Column Density(NH)[1021 cm-2]</th>\n      <th>UVOT dt [sec]</th>\n      <th>Other UVOT Filters</th>\n      <th>Other Observatory Detections</th>\n      <th>Redshift</th>\n      <th>UVOT Vmag</th>\n      <th>UVOT Vmag lim</th>\n    </tr>\n  </thead>\n  <tbody>\n    <tr>\n      <td>18</td>\n      <td>200522A</td>\n      <td>11:41:34</td>\n      <td>973628</td>\n      <td>0.62</td>\n      <td>83.42</td>\n      <td>NaN</td>\n      <td>0.028101185</td>\n      <td>0.0165921492</td>\n      <td>-0.6754</td>\n      <td>1.38048</td>\n      <td>0.445814</td>\n      <td>448</td>\n      <td>{'White': '19.5', 'idx': 18}</td>\n      <td>VLA @ 6 GHZ (possibly from host), LCO (1m), Ge...</td>\n      <td>0.4</td>\n      <td>17.20</td>\n      <td>brightest</td>\n    </tr>\n    <tr>\n      <td>27</td>\n      <td>200411A</td>\n      <td>04:29:02</td>\n      <td>965784</td>\n      <td>0.22</td>\n      <td>50.74</td>\n      <td>142</td>\n      <td>0.011496498</td>\n      <td>0.00544167</td>\n      <td>-0.9587</td>\n      <td>1.76864</td>\n      <td>1.473358</td>\n      <td>58</td>\n      <td>{'B': '20.3', 'U': '21.0', 'UVM2': '18.1', 'UV...</td>\n      <td>Fermi (GBM)</td>\n      <td>NaN</td>\n      <td>18.50</td>\n      <td>brightest</td>\n    </tr>\n    <tr>\n      <td>65</td>\n      <td>191031D</td>\n      <td>21:23:31</td>\n      <td>932608</td>\n      <td>0.29</td>\n      <td>88.83</td>\n      <td>NaN</td>\n      <td>0.000041223156</td>\n      <td>0.0000087841468</td>\n      <td>-1.982</td>\n      <td>1.88342</td>\n      <td>0.657023</td>\n      <td>93</td>\n      <td>{'B': '20.4', 'U': '20.3', 'UVM2': '19.6', 'UV...</td>\n      <td>Fermi (GBM), AGILE (MCAL), Konus-Wind, AstroSa...</td>\n      <td>NaN</td>\n      <td>19.90</td>\n      <td>brightest</td>\n    </tr>\n    <tr>\n      <td>95</td>\n      <td>190627A</td>\n      <td>11:18:31</td>\n      <td>911609</td>\n      <td>1.60</td>\n      <td>109.76</td>\n      <td>79.8</td>\n      <td>0.46849824</td>\n      <td>0.36224076</td>\n      <td>-0.3297</td>\n      <td>1.95997</td>\n      <td>1.807500</td>\n      <td>115</td>\n      <td>{'White': '18.15', 'idx': 95}</td>\n      <td>NUTTelA-TAO, Montarrenti Observatory (0.53m), ...</td>\n      <td>1.942</td>\n      <td>NaN</td>\n      <td>equal</td>\n    </tr>\n    <tr>\n      <td>99</td>\n      <td>190610A</td>\n      <td>11:27:45</td>\n      <td>907754</td>\n      <td>0.62</td>\n      <td>292300</td>\n      <td>NaN</td>\n      <td>NaN</td>\n      <td>NaN</td>\n      <td>NaN</td>\n      <td>NaN</td>\n      <td>NaN</td>\n      <td>292282</td>\n      <td>{'idx': 99}</td>\n      <td>Insight-HXMT/HE, CALET, Konus-Wind</td>\n      <td>NaN</td>\n      <td>20.30</td>\n      <td>brightest</td>\n    </tr>\n    <tr>\n      <td>107</td>\n      <td>190427A</td>\n      <td>04:34:15</td>\n      <td>900730</td>\n      <td>0.3</td>\n      <td>3735.8</td>\n      <td>NaN</td>\n      <td>NaN</td>\n      <td>NaN</td>\n      <td>NaN</td>\n      <td>NaN</td>\n      <td>NaN</td>\n      <td>3737</td>\n      <td>{'U': '19.9', 'idx': 107}</td>\n      <td>Fermi (GBM), CALET (CGBM)</td>\n      <td>NaN</td>\n      <td>NaN</td>\n      <td>equal</td>\n    </tr>\n    <tr>\n      <td>113</td>\n      <td>190326A</td>\n      <td>07:35:28</td>\n      <td>895006</td>\n      <td>0.08</td>\n      <td>NaN</td>\n      <td>NaN</td>\n      <td>NaN</td>\n      <td>NaN</td>\n      <td>NaN</td>\n      <td>NaN</td>\n      <td>NaN</td>\n      <td>NaN</td>\n      <td>{'UVW1': '20.47', 'idx': 113}</td>\n      <td>Insight-HXMT/HE</td>\n      <td>NaN</td>\n      <td>NaN</td>\n      <td>equal</td>\n    </tr>\n    <tr>\n      <td>142</td>\n      <td>181123B</td>\n      <td>05:33:03</td>\n      <td>873186</td>\n      <td>0.26</td>\n      <td>80.25</td>\n      <td>NaN</td>\n      <td>0.00113822496</td>\n      <td>0.00038064168</td>\n      <td>-1.404</td>\n      <td>1.98751</td>\n      <td>0.388179</td>\n      <td>84</td>\n      <td>{'B': '20.1', 'U': '20.1', 'UVM2': '20.5', 'UV...</td>\n      <td>Insight-HXMT/HE</td>\n      <td>NaN</td>\n      <td>19.80</td>\n      <td>brightest</td>\n    </tr>\n    <tr>\n      <td>171</td>\n      <td>180805A</td>\n      <td>09:04:49</td>\n      <td>851829</td>\n      <td>1.68</td>\n      <td>86.13</td>\n      <td>NaN</td>\n      <td>0.03413124</td>\n      <td>0.026692515</td>\n      <td>-0.3151</td>\n      <td>1.50420</td>\n      <td>1.683731</td>\n      <td>89</td>\n      <td>{'B': '19.1', 'U': '19.6', 'UVM2': '19.4', 'UV...</td>\n      <td>NaN</td>\n      <td>NaN</td>\n      <td>18.00</td>\n      <td>brightest</td>\n    </tr>\n    <tr>\n      <td>173</td>\n      <td>180727A</td>\n      <td>14:15:28</td>\n      <td>850231</td>\n      <td>1.1</td>\n      <td>NaN</td>\n      <td>NaN</td>\n      <td>0.000006969616</td>\n      <td>0.00000111130944</td>\n      <td>-2.353</td>\n      <td>1.85342</td>\n      <td>2.102351</td>\n      <td>77</td>\n      <td>{'B': '21.2', 'U': '20.3', 'UVM2': '21.0', 'UV...</td>\n      <td>Fermi (GBM)</td>\n      <td>NaN</td>\n      <td>19.60</td>\n      <td>brightest</td>\n    </tr>\n    <tr>\n      <td>177</td>\n      <td>180718A</td>\n      <td>01:57:45</td>\n      <td>Ground Analysis</td>\n      <td>0.08</td>\n      <td>113700</td>\n      <td>NaN</td>\n      <td>NaN</td>\n      <td>NaN</td>\n      <td>NaN</td>\n      <td>NaN</td>\n      <td>NaN</td>\n      <td>NaN</td>\n      <td>{'idx': 177}</td>\n      <td>Fermi (GBM)</td>\n      <td>NaN</td>\n      <td>NaN</td>\n      <td>equal</td>\n    </tr>\n    <tr>\n      <td>178</td>\n      <td>180715A</td>\n      <td>18:07:05</td>\n      <td>848048</td>\n      <td>0.68</td>\n      <td>3167.8</td>\n      <td>NaN</td>\n      <td>NaN</td>\n      <td>NaN</td>\n      <td>NaN</td>\n      <td>NaN</td>\n      <td>NaN</td>\n      <td>4312</td>\n      <td>B&gt;20.U&gt;19.8UVW2&gt;19.5UVM2&gt;19.7UVW2&gt;18.7White&gt;21.0</td>\n      <td>Fermi (GBM), CALET, Astrosat (CZTI)</td>\n      <td>NaN</td>\n      <td>19.10</td>\n      <td>brightest</td>\n    </tr>\n    <tr>\n      <td>207</td>\n      <td>180402A</td>\n      <td>09:44:59</td>\n      <td>821103</td>\n      <td>0.18</td>\n      <td>79.90</td>\n      <td>NaN</td>\n      <td>0.000330097734</td>\n      <td>0.00007264881</td>\n      <td>-1.94</td>\n      <td>1.45533</td>\n      <td>4.637781</td>\n      <td>140</td>\n      <td>{'B': '20.2', 'U': '20.3', 'UVW1': '20.4', 'UV...</td>\n      <td>Fermi (GBM), Konus-Wind</td>\n      <td>NaN</td>\n      <td>19.20</td>\n      <td>brightest</td>\n    </tr>\n    <tr>\n      <td>223</td>\n      <td>180204A</td>\n      <td>02:36:16</td>\n      <td>808483</td>\n      <td>1.16</td>\n      <td>87.17</td>\n      <td>NaN</td>\n      <td>0.0354924372</td>\n      <td>0.0148867884</td>\n      <td>-1.114</td>\n      <td>1.99449</td>\n      <td>7.638420</td>\n      <td>92</td>\n      <td>{'B': '20.7', 'U': '21.1', 'UVM2': '20.8', 'UV...</td>\n      <td>Fermi (GBM), Konus-Wind</td>\n      <td>NaN</td>\n      <td>19.00</td>\n      <td>brightest</td>\n    </tr>\n    <tr>\n      <td>265</td>\n      <td>170728A</td>\n      <td>06:53:28</td>\n      <td>765008</td>\n      <td>1.25</td>\n      <td>70.64</td>\n      <td>NaN</td>\n      <td>0.0182446226</td>\n      <td>0.0091208606</td>\n      <td>-0.8887</td>\n      <td>2.21859</td>\n      <td>2.677151</td>\n      <td>74</td>\n      <td>{'B': '19.7', 'U': '20.0', 'UVM2': '20.6', 'UV...</td>\n      <td>NaN</td>\n      <td>NaN</td>\n      <td>19.10</td>\n      <td>brightest</td>\n    </tr>\n    <tr>\n      <td>280</td>\n      <td>170524A</td>\n      <td>19:49:15</td>\n      <td>754322</td>\n      <td>0.10</td>\n      <td>60.7</td>\n      <td>NaN</td>\n      <td>NaN</td>\n      <td>NaN</td>\n      <td>NaN</td>\n      <td>NaN</td>\n      <td>NaN</td>\n      <td>67</td>\n      <td>{'B': '18.7', 'U': '19.5', 'UVM2': '17.3', 'UV...</td>\n      <td>NaN</td>\n      <td>NaN</td>\n      <td>17.90</td>\n      <td>brightest</td>\n    </tr>\n    <tr>\n      <td>285</td>\n      <td>170428A</td>\n      <td>09:13:42</td>\n      <td>750298</td>\n      <td>0.20</td>\n      <td>84.63</td>\n      <td>NaN</td>\n      <td>0.0042248808</td>\n      <td>0.00189823788</td>\n      <td>-1.026</td>\n      <td>2.97704</td>\n      <td>3.852532</td>\n      <td>740</td>\n      <td>{'B': '21.0', 'U': '19.5', 'UVM2': '20.', 'UVW...</td>\n      <td>Konus-Wind, MPG (2.2m), HJT (1.5m), DCT (4.3m)...</td>\n      <td>NaN</td>\n      <td>20.00</td>\n      <td>brightest</td>\n    </tr>\n    <tr>\n      <td>291</td>\n      <td>170325A</td>\n      <td>07:56:57.95</td>\n      <td>Ground Analysis</td>\n      <td>0.3</td>\n      <td>NaN</td>\n      <td>NaN</td>\n      <td>NaN</td>\n      <td>NaN</td>\n      <td>NaN</td>\n      <td>NaN</td>\n      <td>NaN</td>\n      <td>NaN</td>\n      <td>{'idx': 291}</td>\n      <td>Fermi (GBM), AZT-33IK</td>\n      <td>NaN</td>\n      <td>NaN</td>\n      <td>equal</td>\n    </tr>\n    <tr>\n      <td>306</td>\n      <td>170127B</td>\n      <td>15:13:28</td>\n      <td>735331</td>\n      <td>0.51</td>\n      <td>74.68</td>\n      <td>NaN</td>\n      <td>0.000060961815</td>\n      <td>0.000014974794</td>\n      <td>-1.799</td>\n      <td>1.56726</td>\n      <td>0.201205</td>\n      <td>114</td>\n      <td>U&gt;19.9White&gt;21.0</td>\n      <td>Fermi (GBM)</td>\n      <td>NaN</td>\n      <td>19.40</td>\n      <td>brightest</td>\n    </tr>\n    <tr>\n      <td>311</td>\n      <td>170112A</td>\n      <td>02:02:00</td>\n      <td>732188</td>\n      <td>0.06</td>\n      <td>62.3</td>\n      <td>NaN</td>\n      <td>NaN</td>\n      <td>NaN</td>\n      <td>NaN</td>\n      <td>NaN</td>\n      <td>NaN</td>\n      <td>279</td>\n      <td>{'B': '20.0', 'U': '20.4', 'UVM2': '20.2', 'UV...</td>\n      <td>NaN</td>\n      <td>NaN</td>\n      <td>19.20</td>\n      <td>brightest</td>\n    </tr>\n    <tr>\n      <td>327</td>\n      <td>161104A</td>\n      <td>09:42:26</td>\n      <td>720568</td>\n      <td>0.1</td>\n      <td>58.28</td>\n      <td>295</td>\n      <td>0.0175230653</td>\n      <td>0.0137668523</td>\n      <td>-0.3092</td>\n      <td>1.35561</td>\n      <td>2.998879</td>\n      <td>69</td>\n      <td>{'UVM2': '21.7', 'UVW1': '19.9', 'UVW2': '19.9...</td>\n      <td>NaN</td>\n      <td>NaN</td>\n      <td>NaN</td>\n      <td>equal</td>\n    </tr>\n    <tr>\n      <td>339</td>\n      <td>160927A</td>\n      <td>18:04:49</td>\n      <td>713782</td>\n      <td>0.48</td>\n      <td>79.49</td>\n      <td>NaN</td>\n      <td>0.006998838</td>\n      <td>0.00319856845</td>\n      <td>-1.004</td>\n      <td>1.71550</td>\n      <td>0.756916</td>\n      <td>85</td>\n      <td>{'B': '21.5', 'U': '21.1', 'UVM2': '20.5', 'UV...</td>\n      <td>RTT150 (1.5m), TNG (3.6m), MPG (2.2m), NOT (2....</td>\n      <td>NaN</td>\n      <td>19.90</td>\n      <td>brightest</td>\n    </tr>\n    <tr>\n      <td>347</td>\n      <td>160821B</td>\n      <td>22:29:13</td>\n      <td>709357</td>\n      <td>0.48</td>\n      <td>65.97</td>\n      <td>145</td>\n      <td>0.000013792185</td>\n      <td>0.0000020496432</td>\n      <td>-2.444</td>\n      <td>2.39723</td>\n      <td>0.575275</td>\n      <td>76</td>\n      <td>{'B': '20.2', 'U': '20.6', 'UVM2': '19.5', 'UV...</td>\n      <td>NOT (2.56m), Fermi (GBM), WHT, GTC (10.4m), VL...</td>\n      <td>NaN</td>\n      <td>19.10</td>\n      <td>brightest</td>\n    </tr>\n    <tr>\n      <td>354</td>\n      <td>160726A</td>\n      <td>01:34:07</td>\n      <td>706052</td>\n      <td>0.7</td>\n      <td>NaN</td>\n      <td>NaN</td>\n      <td>NaN</td>\n      <td>NaN</td>\n      <td>NaN</td>\n      <td>NaN</td>\n      <td>NaN</td>\n      <td>NaN</td>\n      <td>{'idx': 354}</td>\n      <td>Fermi (GBM), Konus-Wind</td>\n      <td>NaN</td>\n      <td>NaN</td>\n      <td>equal</td>\n    </tr>\n    <tr>\n      <td>356</td>\n      <td>160714A</td>\n      <td>02:19:15</td>\n      <td>704310</td>\n      <td>0.35</td>\n      <td>1677.2</td>\n      <td>NaN</td>\n      <td>NaN</td>\n      <td>NaN</td>\n      <td>NaN</td>\n      <td>NaN</td>\n      <td>NaN</td>\n      <td>1682</td>\n      <td>{'B': '20.12', 'U': '20.07', 'UVW1': '20.06', ...</td>\n      <td>Fermi (GBM)</td>\n      <td>NaN</td>\n      <td>19.67</td>\n      <td>brightest</td>\n    </tr>\n    <tr>\n      <td>365</td>\n      <td>160624A</td>\n      <td>11:27:01</td>\n      <td>701288</td>\n      <td>0.2</td>\n      <td>73.72</td>\n      <td>NaN</td>\n      <td>0.00000000090746033</td>\n      <td>0.000000000047122641</td>\n      <td>-3.791</td>\n      <td>1.60333</td>\n      <td>3.373361</td>\n      <td>77</td>\n      <td>{'B': '20.7', 'U': '20.7', 'UVM2': '20.7', 'UV...</td>\n      <td>Fermi (GBM)</td>\n      <td>0.483</td>\n      <td>19.50</td>\n      <td>brightest</td>\n    </tr>\n    <tr>\n      <td>370</td>\n      <td>160601A</td>\n      <td>14:43:02</td>\n      <td>688452</td>\n      <td>0.12</td>\n      <td>73.97</td>\n      <td>NaN</td>\n      <td>0.0082632264</td>\n      <td>0.0056502732</td>\n      <td>-0.4872</td>\n      <td>2.27694</td>\n      <td>1.317676</td>\n      <td>78</td>\n      <td>{'B': '18.32', 'UVM2': '17.46', 'UVW1': '17.72...</td>\n      <td>NOT, AZT-33IK, GTC, Gemini-North (8m), AbAO (0...</td>\n      <td>NaN</td>\n      <td>17.30</td>\n      <td>brightest</td>\n    </tr>\n    <tr>\n      <td>371</td>\n      <td>160525B</td>\n      <td>09:25:07</td>\n      <td>687522</td>\n      <td>0.29</td>\n      <td>83.40</td>\n      <td>NaN</td>\n      <td>0.00197931132</td>\n      <td>0.00070556652</td>\n      <td>-1.322</td>\n      <td>1.90821</td>\n      <td>0.656405</td>\n      <td>88</td>\n      <td>{'B': '19.8', 'U': '20.0', 'UVM2': '18.2', 'UV...</td>\n      <td>NaN</td>\n      <td>NaN</td>\n      <td>18.90</td>\n      <td>brightest</td>\n    </tr>\n    <tr>\n      <td>385</td>\n      <td>160411A</td>\n      <td>01:28:51</td>\n      <td>682339</td>\n      <td>0.36</td>\n      <td>3132.28</td>\n      <td>NaN</td>\n      <td>0.0030945745</td>\n      <td>0.00107168394</td>\n      <td>-1.359</td>\n      <td>1.82276</td>\n      <td>1.512240</td>\n      <td>3139</td>\n      <td>{'B': '19.9', 'U': '20.0', 'UVM2': '20.1', 'UV...</td>\n      <td>Fermi (GBM), Gemini-South</td>\n      <td>NaN</td>\n      <td>19.40</td>\n      <td>brightest</td>\n    </tr>\n    <tr>\n      <td>388</td>\n      <td>160408A</td>\n      <td>06:25:43</td>\n      <td>682059</td>\n      <td>0.32</td>\n      <td>94.78</td>\n      <td>NaN</td>\n      <td>0.00095306296</td>\n      <td>0.00035952845</td>\n      <td>-1.25</td>\n      <td>2.06621</td>\n      <td>1.666459</td>\n      <td>98</td>\n      <td>{'B': '19.6', 'U': '19.9', 'UVM2': '18.8', 'UV...</td>\n      <td>Fermi (GBM), Gemini-North, CALET</td>\n      <td>NaN</td>\n      <td>19.40</td>\n      <td>brightest</td>\n    </tr>\n    <tr>\n      <td>413</td>\n      <td>151229A</td>\n      <td>06:50:27</td>\n      <td>668689</td>\n      <td>1.78</td>\n      <td>86.91</td>\n      <td>NaN</td>\n      <td>0.155631333</td>\n      <td>0.076804299</td>\n      <td>-0.6067</td>\n      <td>2.05197</td>\n      <td>7.235703</td>\n      <td>90</td>\n      <td>{'B': '19.5', 'U': '19.8', 'UVM2': '19.9', 'UV...</td>\n      <td>Fermi (GBM)</td>\n      <td>NaN</td>\n      <td>18.80</td>\n      <td>brightest</td>\n    </tr>\n    <tr>\n      <td>415</td>\n      <td>151228A</td>\n      <td>03:05:12</td>\n      <td>668543</td>\n      <td>0.27</td>\n      <td>178600</td>\n      <td>NaN</td>\n      <td>NaN</td>\n      <td>NaN</td>\n      <td>NaN</td>\n      <td>NaN</td>\n      <td>NaN</td>\n      <td>NaN</td>\n      <td>{'idx': 415}</td>\n      <td>Fermi (GBM)</td>\n      <td>NaN</td>\n      <td>NaN</td>\n      <td>equal</td>\n    </tr>\n    <tr>\n      <td>419</td>\n      <td>151205B</td>\n      <td>21:43:14</td>\n      <td>666378</td>\n      <td>1.4</td>\n      <td>3127.1</td>\n      <td>NaN</td>\n      <td>NaN</td>\n      <td>NaN</td>\n      <td>NaN</td>\n      <td>NaN</td>\n      <td>NaN</td>\n      <td>3131</td>\n      <td>{'idx': 419}</td>\n      <td>NaN</td>\n      <td>NaN</td>\n      <td>NaN</td>\n      <td>equal</td>\n    </tr>\n    <tr>\n      <td>421</td>\n      <td>151127A</td>\n      <td>09:08:49</td>\n      <td>665268</td>\n      <td>0.19</td>\n      <td>79.2</td>\n      <td>10</td>\n      <td>0.00062750448</td>\n      <td>0.00023820183</td>\n      <td>-1.242</td>\n      <td>2.47081</td>\n      <td>2.110660</td>\n      <td>77</td>\n      <td>{'UVM2': '20.0', 'UVW1': '20.3', 'UVW2': '21.3...</td>\n      <td>NaN</td>\n      <td>NaN</td>\n      <td>NaN</td>\n      <td>equal</td>\n    </tr>\n    <tr>\n      <td>449</td>\n      <td>150831A</td>\n      <td>10:34:12</td>\n      <td>653838</td>\n      <td>1.15</td>\n      <td>83.44</td>\n      <td>89.1</td>\n      <td>0.0000084691308</td>\n      <td>0.00000119437032</td>\n      <td>-2.511</td>\n      <td>1.63580</td>\n      <td>1.414772</td>\n      <td>88</td>\n      <td>{'B': '20.4', 'U': '21.0', 'UVM2': '21.3', 'UV...</td>\n      <td>INTEGRAL, Konus-Wind</td>\n      <td>NaN</td>\n      <td>19.80</td>\n      <td>brightest</td>\n    </tr>\n    <tr>\n      <td>456</td>\n      <td>150728A</td>\n      <td>12:51:11</td>\n      <td>650617</td>\n      <td>0.83</td>\n      <td>70.2</td>\n      <td>NaN</td>\n      <td>NaN</td>\n      <td>NaN</td>\n      <td>-0.4</td>\n      <td>NaN</td>\n      <td>NaN</td>\n      <td>75</td>\n      <td>{'B': '21.1', 'U': '21.0', 'UVM2': '20.2', 'UV...</td>\n      <td>NaN</td>\n      <td>NaN</td>\n      <td>19.80</td>\n      <td>brightest</td>\n    </tr>\n    <tr>\n      <td>465</td>\n      <td>150710A</td>\n      <td>00:28:02</td>\n      <td>648437</td>\n      <td>0.15</td>\n      <td>49.2</td>\n      <td>NaN</td>\n      <td>NaN</td>\n      <td>NaN</td>\n      <td>NaN</td>\n      <td>NaN</td>\n      <td>NaN</td>\n      <td>53</td>\n      <td>{'B': '19.1', 'U': '20.0', 'UVM2': '18.2', 'UV...</td>\n      <td>Konus-Wind</td>\n      <td>NaN</td>\n      <td>18.10</td>\n      <td>brightest</td>\n    </tr>\n    <tr>\n      <td>485</td>\n      <td>150423A</td>\n      <td>06:28:04</td>\n      <td>638808</td>\n      <td>0.22</td>\n      <td>70.12</td>\n      <td>NaN</td>\n      <td>0.007539672</td>\n      <td>0.0035902482</td>\n      <td>-0.951</td>\n      <td>1.53257</td>\n      <td>0.385306</td>\n      <td>73</td>\n      <td>B&gt;20.9U&gt;20.8UVW1&gt;20.9UVM2&gt;20.8UVW1&gt;21.6white&gt;21.5</td>\n      <td>MPG (2.2m), Keck I (10m), HJT (1.5m), VLT, UKI...</td>\n      <td>1.394</td>\n      <td>20.90</td>\n      <td>brightest</td>\n    </tr>\n  </tbody>\n</table>\n</div>"
     },
     "metadata": {},
     "execution_count": 16
    }
   ],
   "source": [
    "new_sGRBs"
   ]
  },
  {
   "cell_type": "code",
   "execution_count": 34,
   "metadata": {
    "tags": []
   },
   "outputs": [],
   "source": [
    "burst = \"200411A\"\n",
    "trigger = new_sGRBs.loc[sGRBs[\"GRB\"] == burst, \"TriggerNumber\"]\n",
    "lightcurveURL = f\"https://www.swift.ac.uk/xrt_curves/{int(trigger):0>8}/flux.qdp\""
   ]
  },
  {
   "cell_type": "code",
   "execution_count": 35,
   "metadata": {},
   "outputs": [],
   "source": [
    "fluxdata = pd.read_table(lightcurveURL, header=11).apply(pd.to_numeric, errors=\"coerce\").dropna().reset_index(drop=True)\n",
    "fluxdata.columns = [\"Time\",\"Tpos\",\"Tneg\",\"Flux\",\"Fluxpos\",\"Fluxneg\"]"
   ]
  },
  {
   "cell_type": "code",
   "execution_count": null,
   "metadata": {},
   "outputs": [],
   "source": []
  }
 ],
 "metadata": {
  "kernelspec": {
   "display_name": "Python 3",
   "language": "python",
   "name": "python3"
  },
  "language_info": {
   "codemirror_mode": {
    "name": "ipython",
    "version": 3
   },
   "file_extension": ".py",
   "mimetype": "text/x-python",
   "name": "python",
   "nbconvert_exporter": "python",
   "pygments_lexer": "ipython3",
   "version": "3.6.6-final"
  },
  "toc": {
   "base_numbering": 1,
   "nav_menu": {},
   "number_sections": true,
   "sideBar": true,
   "skip_h1_title": false,
   "title_cell": "Table of Contents",
   "title_sidebar": "Contents",
   "toc_cell": false,
   "toc_position": {},
   "toc_section_display": true,
   "toc_window_display": false
  },
  "varInspector": {
   "cols": {
    "lenName": 16,
    "lenType": 16,
    "lenVar": 40
   },
   "kernels_config": {
    "python": {
     "delete_cmd_postfix": "",
     "delete_cmd_prefix": "del ",
     "library": "var_list.py",
     "varRefreshCmd": "print(var_dic_list())"
    },
    "r": {
     "delete_cmd_postfix": ") ",
     "delete_cmd_prefix": "rm(",
     "library": "var_list.r",
     "varRefreshCmd": "cat(var_dic_list()) "
    }
   },
   "types_to_exclude": [
    "module",
    "function",
    "builtin_function_or_method",
    "instance",
    "_Feature"
   ],
   "window_display": false
  }
 },
 "nbformat": 4,
 "nbformat_minor": 2
}