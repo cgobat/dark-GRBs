{
 "cells": [
  {
   "cell_type": "markdown",
   "id": "driven-maintenance",
   "metadata": {},
   "source": [
    "# Optically dark short GRBs\n",
    "\n",
    "**Caden Gobat**, The George Washington University"
   ]
  },
  {
   "cell_type": "markdown",
   "id": "informative-clinton",
   "metadata": {},
   "source": [
    "## Imports/loading/setup"
   ]
  },
  {
   "cell_type": "code",
   "execution_count": null,
   "id": "afraid-prisoner",
   "metadata": {},
   "outputs": [],
   "source": [
    "import numpy as np, pandas as pd, matplotlib.pyplot as plt, importlib, seaborn as sns, astropy.units as u\n",
    "from scipy import interpolate\n",
    "from src.utilities import new_since_Fong\n",
    "from src.xrt import XRT_lightcurve, get_photonIndex, get_temporalIndex, get_columnDensity\n",
    "from asymmetric_uncertainty import a_u"
   ]
  },
  {
   "cell_type": "markdown",
   "id": "confident-claim",
   "metadata": {},
   "source": [
    "### Load legacy and new data"
   ]
  },
  {
   "cell_type": "code",
   "execution_count": null,
   "id": "local-brook",
   "metadata": {},
   "outputs": [],
   "source": [
    "sGRBs = pd.read_csv(\"./products/Swift_sGRB_catalog.csv\")\n",
    "new_sGRBs = new_since_Fong(sGRBs) # Fong et al. (2015) has data up to March 2015, i.e. GRB 150301A\n",
    "\n",
    "BetaXData = pd.read_csv(\"./data/BetaXData.csv\", header=None, names=[\"GRB\",\"Beta_X\",\"Beta_X_pos\",\"Beta_X_neg\"])\n",
    "BetaXData[\"GRB\"] = [entry.split(\"-\")[-1] for entry in BetaXData[\"GRB\"]]\n",
    "BetaXData[\"Beta_X\"] *= -1\n",
    "\n",
    "OpticalData = pd.read_csv(\"./data/OpticalData.csv\", header=None, names=[\"GRB\",\"Time\",\"Observatory\",\"Instrument\",\"Filter\",\"Exposure\",\"F_o\",\"e_F_o\"])\n",
    "OpticalData[\"GRB\"] = [entry.split(\"-\")[-1] for entry in OpticalData[\"GRB\"]]\n",
    "OpticalData[\"Time\"] *= 60*60 # hours to seconds\n",
    "\n",
    "filters = pd.read_csv(\"./data/FilterInfo.csv\", header=None, names=[\"Observatory\",\"Instrument\",\"Filter\",\"Wavelength\",\"Frequency\"])\n",
    "OpticalData = pd.merge(OpticalData,filters,how=\"left\",on=[\"Observatory\",\"Instrument\",\"Filter\"])\n",
    "\n",
    "XRayData = pd.read_csv(\"./data/XRayData.csv\", header=None, names=[\"GRB\",\"Time\",\"Exposure\",\"F_x\",\"e_F_x\"])\n",
    "\n",
    "xrt_data = pd.read_csv(\"./products/Swift_XRT_lightcurves.csv\")"
   ]
  },
  {
   "cell_type": "markdown",
   "id": "synthetic-accordance",
   "metadata": {},
   "source": [
    "## X-ray data processing\n",
    "\n",
    "### Flux conversions\n",
    "\n",
    "$$ F_\\text{x} = \\int_{0.3\\text{ keV}}^{10\\text{ keV}} F(E)\\ dE = \\int_{7.254\\cdot10^{16}\\text{ Hz}}^{2.418\\cdot10^{18}\\text{ Hz}} F_\\nu\\ d\\nu = A \\int_{7.254\\cdot10^{16}\\text{ Hz}}^{2.418\\cdot10^{18}\\text{ Hz}} \\nu^{-\\beta}\\ d\\nu $$\n",
    "$$ F_\\text{x} = \\left.\\begin{cases} A\\frac{\\nu^{1-\\beta}}{1-\\beta}, & \\beta \\neq 1 \\\\ A\\ln(\\nu), & \\beta = 1 \\end{cases}\\right\\}_{7.254\\cdot10^{16}\\text{ Hz}}^{2.418\\cdot10^{18}\\text{ Hz}} $$"
   ]
  },
  {
   "cell_type": "code",
   "execution_count": null,
   "id": "innovative-camcorder",
   "metadata": {},
   "outputs": [],
   "source": [
    "for i,row in xrt_data.iterrows():\n",
    "    grb_id = row[\"GRB\"]\n",
    "    if grb_id not in sGRBs[\"GRB\"].values:\n",
    "        continue\n",
    "    beta = a_u(float(sGRBs.loc[sGRBs[\"GRB\"]==grb_id,\"Beta_X\"]),\n",
    "               float(sGRBs.loc[sGRBs[\"GRB\"]==grb_id,\"Beta_X_pos\"]/1.645), # 90% conf to 1-sigma\n",
    "               float(sGRBs.loc[sGRBs[\"GRB\"]==grb_id,\"Beta_X_neg\"]/1.645)) # 90% conf to 1-sigma\n",
    "    B = beta.value\n",
    "    Fx = a_u(row[\"Flux\"], row[\"Fluxpos\"], np.abs(row[\"Fluxneg\"]))\n",
    "    if B == 1:\n",
    "        integral = np.log(10) - np.log(0.3)\n",
    "    else:\n",
    "        integral = (10**(1-B) - 0.3**(1-B))/(1-B)\n",
    "\n",
    "    log_mean_energy = 10**np.mean((np.log10(0.3),np.log10(10))) # halfway between the endpoints in log space\n",
    "\n",
    "    dfdF = (log_mean_energy**(-B))/integral\n",
    "    dfdB = -np.log(log_mean_energy)*log_mean_energy**(-B)*Fx.value/integral #- log_mean_energy**(-B)*(1-B)*Fx.value*(np.log(0.3)*0.3**(1-B) - np.log(10)*10**(1-B))/((10**(1-B)-0.3**(1-B))**2) - log_mean_energy**(-B)*Fx.value/(10**(1-B)-0.3**(1-B))\n",
    "    pos_err = np.sqrt(dfdF**2*Fx.plus**2 + dfdB**2*beta.plus**2)\n",
    "    neg_err = np.sqrt(dfdF**2*Fx.minus**2 + dfdB**2*beta.minus**2)\n",
    "    result = Fx.value*log_mean_energy**(-B)/integral\n",
    "    spectral_flux = a_u(result,pos_err,neg_err) # erg/s/cm^2/keV\n",
    "    spectral_flux *= 1e23/241797944177033445 # convert to Jy\n",
    "    xrt_data.loc[i,\"SpecFlux\"] = spectral_flux"
   ]
  },
  {
   "cell_type": "markdown",
   "id": "adverse-hormone",
   "metadata": {},
   "source": [
    "### Fong, et al. (2015)'s data"
   ]
  },
  {
   "cell_type": "code",
   "execution_count": null,
   "id": "therapeutic-flour",
   "metadata": {},
   "outputs": [],
   "source": [
    "added_from_Fong = []\n",
    "for grb_id in XRayData[\"GRB\"].unique(): # add David's old data in the same format\n",
    "    GRB = grb_id[3:]\n",
    "    lightcurve = XRayData.loc[XRayData[\"GRB\"]==grb_id,:]\n",
    "    if GRB not in xrt_data[\"GRB\"].values:\n",
    "        added_from_Fong.append(GRB)\n",
    "        for i in lightcurve.index:\n",
    "            t = lightcurve.loc[i,\"Time\"]\n",
    "            tpos = tneg = lightcurve.loc[i,\"Exposure\"]/2\n",
    "            flux = lightcurve.loc[i,\"F_x\"]/1e6 # uJy to Jy\n",
    "            if lightcurve.loc[i,\"e_F_x\"] != 0:\n",
    "                fluxpos = fluxneg = lightcurve.loc[i,\"e_F_x\"]/1e6\n",
    "            else:\n",
    "                fluxpos = 0\n",
    "                fluxneg = np.inf\n",
    "            newrow = [dict(zip(xrt_data.columns,\n",
    "                               [GRB,t,tpos,tneg,np.nan,np.nan,np.nan,\n",
    "                                a_u(flux,fluxpos,fluxneg)]))]\n",
    "            xrt_data = pd.concat([xrt_data, pd.DataFrame(newrow)], ignore_index=True)\n",
    "            \n",
    "xrt_data.sort_values(by=[\"GRB\",\"Time\"], ascending=[False,True], inplace=True)"
   ]
  },
  {
   "cell_type": "code",
   "execution_count": null,
   "id": "centered-singapore",
   "metadata": {},
   "outputs": [],
   "source": [
    "print(\"Finished xray.\")"
   ]
  },
  {
   "cell_type": "markdown",
   "id": "durable-server",
   "metadata": {},
   "source": [
    "## Optical data processing\n",
    "\n",
    "### Load and preprocess data"
   ]
  },
  {
   "cell_type": "code",
   "execution_count": null,
   "id": "chemical-knowing",
   "metadata": {},
   "outputs": [],
   "source": [
    "new_optical = pd.read_excel(\"./data/newData.xlsx\")\n",
    "\n",
    "for col in [\"GRB\",\"TriggerNumber\",\"Observatory\",\"Instrument\",\"Source\",\"E(B-V)\"]:\n",
    "    for i in new_optical.index:\n",
    "        if pd.isna(new_optical.loc[i,col]):\n",
    "            new_optical.loc[i,col] = new_optical.loc[i-1,col] # deal with merged Excel cells\n",
    "new_optical[\"Magnitude\"] = pd.to_numeric(new_optical[\"Magnitude\"],errors=\"coerce\")\n",
    "new_optical.dropna(subset=[\"Magnitude\"],inplace=True)\n",
    "\n",
    "rastinejad = pd.read_csv(\"./data/Rastinejad_Table1.csv\")\n",
    "for i in rastinejad.index:\n",
    "    info = {}\n",
    "    info[\"GRB\"] = rastinejad.loc[i,\"GRB\"]\n",
    "    if \"/\" in rastinejad.loc[i,\"Telescope/Instrument\"]:\n",
    "        info[\"Observatory\"] = rastinejad.loc[i,\"Telescope/Instrument\"].split(\"/\")[0]\n",
    "        info[\"Instrument\"] = rastinejad.loc[i,\"Telescope/Instrument\"].split(\"/\")[1]\n",
    "    else:\n",
    "        info[\"Observatory\"] = rastinejad.loc[i,\"Telescope/Instrument\"]\n",
    "    info[\"Filter\"] = rastinejad.loc[i,\"Filter\"]\n",
    "    info[\"Time (s)\"] = float(rastinejad.loc[i,\"dt [sec]\"])\n",
    "    if \">\" in rastinejad.loc[i,\"Magnitude\"]:\n",
    "        info[\"Magnitude\"] = float(rastinejad.loc[i,\"Magnitude\"].replace(\">\",\"\"))\n",
    "        info[\"Mag error\"] = \"3-sigma\"\n",
    "    elif \"+/-\" in rastinejad.loc[i,\"Magnitude\"]:\n",
    "        info[\"Magnitude\"] = float(rastinejad.loc[i,\"Magnitude\"].split(\" +/- \")[0])\n",
    "        info[\"Mag error\"] = float(rastinejad.loc[i,\"Magnitude\"].split(\" +/- \")[1])\n",
    "    info[\"λ_eff\"] = float(rastinejad.loc[i,\"Wavelength\"])\n",
    "    info[\"Source\"] = \"Rastinejad\"\n",
    "    info[\"E(B-V)\"] = float(rastinejad.loc[i,\"E(B-V)\"])\n",
    "    new_optical = pd.concat([new_optical, pd.DataFrame([info])], ignore_index=True)"
   ]
  },
  {
   "cell_type": "markdown",
   "id": "unable-toyota",
   "metadata": {},
   "source": [
    "*Swift*-UVOT magnitudes are natively reported in the Vega system. Here I standardize the filter names and apply the appropriate conversions to put them in AB."
   ]
  },
  {
   "cell_type": "code",
   "execution_count": null,
   "id": "considerable-volunteer",
   "metadata": {},
   "outputs": [],
   "source": [
    "UVOT_conversions = {'V': -0.01, 'B': -0.13, 'U': 1.02, 'UVW1': 1.51, 'UVM2': 1.69, 'UVW2': 1.73, 'White': 0.8}\n",
    "\n",
    "for i in new_optical.loc[new_optical[\"Observatory\"]==\"Swift\"].index:\n",
    "    filt = new_optical.loc[i,\"Filter\"]\n",
    "    if filt in UVOT_conversions.keys() or pd.isna(filt):\n",
    "        pass\n",
    "    elif filt.upper() in UVOT_conversions.keys():\n",
    "        new_optical.loc[i,\"Filter\"] = filt.upper()\n",
    "    elif 'wh' in filt.lower():\n",
    "        new_optical.loc[i,\"Filter\"] = \"White\"\n",
    "    elif filt[-3:].upper() == \"_FC\":\n",
    "        new_optical.loc[i,\"Filter\"] = filt[:-3].title()\n",
    "    elif 'm2' in filt.lower():\n",
    "        new_optical.loc[i,\"Filter\"] = \"UVM2\"\n",
    "    elif 'w1' in filt.lower():\n",
    "        new_optical.loc[i,\"Filter\"] = \"UVW1\"\n",
    "    elif 'w2' in filt.lower():\n",
    "        new_optical.loc[i,\"Filter\"] = \"UVW2\"\n",
    "        \n",
    "    new_optical.loc[i,\"Magnitude\"] += UVOT_conversions[new_optical.loc[i,\"Filter\"]]"
   ]
  },
  {
   "cell_type": "code",
   "execution_count": null,
   "id": "multiple-essence",
   "metadata": {},
   "outputs": [],
   "source": [
    "new_optical[\"mag_w_err\"] = [a_u(mag,err,err) if isinstance(err,(float,int)) else a_u(mag,np.inf,0) for mag,err in new_optical[[\"Magnitude\",\"Mag error\"]].values]"
   ]
  },
  {
   "cell_type": "markdown",
   "id": "binding-masters",
   "metadata": {},
   "source": [
    "### Extinction correction and flux conversion\n",
    "\n",
    "$ A_b = R_b \\cdot E_{B-V} $ for an arbitrary band $b$"
   ]
  },
  {
   "cell_type": "code",
   "execution_count": null,
   "id": "altered-works",
   "metadata": {},
   "outputs": [],
   "source": [
    "RbTable = pd.read_csv(\"./data/Rb.csv\") # Table 6 from Schlafly & Finkbeiner (2011)\n",
    "RbTable.drop([37,55,61,73],axis=0,inplace=True) # smoothing\n",
    "\n",
    "Rb = interpolate.interp1d(RbTable[\"lambda_eff\"],RbTable[\"R_b\"],fill_value=\"extrapolate\") # function that takes a wavelength [Ang] and returns the corresponding R_b value\n",
    "\n",
    "new_optical[\"Extinction\"] = Rb(new_optical[\"λ_eff\"])*new_optical[\"E(B-V)\"]\n",
    "\n",
    "new_optical[\"Flux (Jy)\"] = 3631*10**(-(new_optical[\"mag_w_err\"]-new_optical[\"Extinction\"])/2.5) # AB mag = 0 at f_nu = 3631 Jy"
   ]
  },
  {
   "cell_type": "markdown",
   "id": "considerable-tampa",
   "metadata": {},
   "source": [
    "### Fong, et al. (2015)'s optical data"
   ]
  },
  {
   "cell_type": "code",
   "execution_count": null,
   "id": "better-hundred",
   "metadata": {},
   "outputs": [],
   "source": [
    "all_optical = new_optical.copy()\n",
    "\n",
    "for i in OpticalData.index:\n",
    "    GRB = OpticalData.loc[i,\"GRB\"]\n",
    "    obs = OpticalData.loc[i,\"Observatory\"]\n",
    "    inst = OpticalData.loc[i,\"Instrument\"]\n",
    "    filt = OpticalData.loc[i,\"Filter\"]\n",
    "    time = OpticalData.loc[i,\"Time\"]\n",
    "    lambda_eff = OpticalData.loc[i,\"Wavelength\"]*10\n",
    "    flux = OpticalData.loc[i,\"F_o\"]/1e6\n",
    "    fluxpos = fluxneg = OpticalData.loc[i,\"e_F_o\"]/1e6\n",
    "    if fluxneg == 0:\n",
    "        fluxneg = np.inf\n",
    "    newrow = {'GRB':GRB, 'Observatory':obs, 'Instrument':inst,'Filter':filt, 'λ_eff':lambda_eff,\n",
    "              'Time (s)':time, 'Source':'Fong', 'Flux (Jy)':a_u(flux,fluxpos,fluxneg)}\n",
    "    all_optical = pd.concat([all_optical, pd.DataFrame([newrow])], ignore_index=True)\n",
    "    \n",
    "all_optical.sort_values(by=[\"GRB\",\"Time (s)\"],ascending=[False,True],inplace=True)\n",
    "all_optical.reset_index(inplace=True,drop=True)"
   ]
  },
  {
   "cell_type": "code",
   "execution_count": null,
   "id": "optional-regular",
   "metadata": {},
   "outputs": [],
   "source": [
    "print(\"Finished optical.\")"
   ]
  },
  {
   "cell_type": "markdown",
   "id": "harmful-majority",
   "metadata": {},
   "source": [
    "## Information compilation\n",
    "\n",
    "### Match data in time"
   ]
  },
  {
   "cell_type": "code",
   "execution_count": null,
   "id": "liquid-damage",
   "metadata": {},
   "outputs": [],
   "source": [
    "# max_dt (allowable % time difference) is set before this notebook is run\n",
    "log_mean_energy = 10**np.mean((np.log10(0.3),np.log10(10)))\n",
    "nu_x = a_u(log_mean_energy,10-log_mean_energy,log_mean_energy-0.3) * 241797944177033445 # xray frequency [Hz]\n",
    "results = pd.DataFrame(columns=[\"GRB\",\"t_o\",\"dt%\",\"nu_o\",\"F_o\",\"nu_x\",\"F_x\",\"B_ox\"])\n",
    "for i_o in all_optical.index: # for each optical data point\n",
    "    t_o = all_optical.loc[i_o,\"Time (s)\"] # optical observation time\n",
    "    F_o = all_optical.loc[i_o,\"Flux (Jy)\"] # optical flux\n",
    "    nu_o = 299792458/float(all_optical.loc[i_o,\"λ_eff\"]/1e10) # optical frequency [Hz]\n",
    "    for i_x in xrt_data[xrt_data[\"GRB\"]==all_optical.loc[i_o,\"GRB\"]].index: # for each x-ray data point on this GRB\n",
    "        t_x = float(xrt_data.loc[i_x,\"Time\"]) # x-ray observation time\n",
    "        dt = np.abs(t_o-t_x)/t_x # time difference\n",
    "        if dt <= max_dt: # if time separation is allowable\n",
    "            F_x = xrt_data.loc[i_x,\"SpecFlux\"]\n",
    "            Beta_ox = -np.log10(F_x/F_o)/np.log10(nu_x/nu_o)\n",
    "            if pd.notna(Beta_ox.value):\n",
    "                match_info = {\"GRB\":all_optical.loc[i_o,\"GRB\"], \"t_o\":t_o, \"dt%\":dt,\n",
    "                              \"nu_o\":nu_o, \"F_o\":F_o, \"nu_x\":nu_x, \"F_x\":F_x, \"B_ox\":Beta_ox}\n",
    "                results = pd.concat([results, pd.DataFrame([match_info])], ignore_index=True)\n",
    "        else: # if data points don't match\n",
    "            pass"
   ]
  },
  {
   "cell_type": "markdown",
   "id": "instant-garlic",
   "metadata": {},
   "source": [
    "### Incorporate error in $\\beta_\\text{ox}$ due to temporal separation ($\\Delta\\beta_\\text{ox}$)"
   ]
  },
  {
   "cell_type": "code",
   "execution_count": null,
   "id": "canadian-pulse",
   "metadata": {
    "scrolled": true
   },
   "outputs": [],
   "source": [
    "delta_B_ox = lambda dt, alpha=1 : np.abs(alpha*np.log10(1+dt)) # Fitzpatrick Eq. 41\n",
    "\n",
    "if error_B_ox: # flag set before running\n",
    "    results[\"α\"] = np.nan\n",
    "    for (grb,t_o),matches in results.groupby([\"GRB\",\"t_o\"]):\n",
    "        i = matches.index[0]\n",
    "        a = results.loc[i,\"α\"]\n",
    "        if pd.notna(a):\n",
    "            continue\n",
    "        try:\n",
    "            a = get_temporalIndex(grb, t_o, sGRBs)\n",
    "            results.loc[matches.index,\"α\"] = a.value\n",
    "        except:\n",
    "            a = 1\n",
    "            results.loc[matches.index,\"α\"] = a\n",
    "        print(\"\", end=\"\\rWorking on GRB {}...\".format(grb+\" \"*(7-len(grb))))\n",
    "    print(\"\\rFinished Δβₒₓ.\"+\" \"*11)\n",
    "    results[\"B_ox_w_err\"] = [match[\"B_ox\"].add_error(delta_B_ox(match[\"dt%\"], match[\"α\"])) for _, match in results.iterrows()]\n",
    "    B_ox_name = \"B_ox_w_err\"\n",
    "    \n",
    "else:\n",
    "    B_ox_name = \"B_ox\"\n",
    "    \n",
    "print(\"Using\",B_ox_name)"
   ]
  },
  {
   "cell_type": "markdown",
   "id": "explicit-wells",
   "metadata": {},
   "source": [
    "### Compare with $\\beta_\\text{x}$ to determine darkness"
   ]
  },
  {
   "cell_type": "code",
   "execution_count": null,
   "id": "molecular-flood",
   "metadata": {},
   "outputs": [],
   "source": [
    "results = results.merge(sGRBs[[\"GRB\",\"Beta_X\",\"Beta_X_pos\",\"Beta_X_neg\"]],\n",
    "                        on=\"GRB\",how=\"left\") # match by GRB ID\n",
    "results[\"B_x\"] = [a_u(*results.loc[i,[\"Beta_X\",\"Beta_X_pos\",\"Beta_X_neg\"]]) for i in results.index] # construct objects\n",
    "results.drop(['Beta_X', 'Beta_X_pos', 'Beta_X_neg'],axis=1,inplace=True) # discard superfluous columns\n",
    "\n",
    "# add flag columns for darkness by both methods\n",
    "for i in results.index:\n",
    "    if restrictive: # flag set before running. '<<' operator is overloaded for use with a_u class\n",
    "        results.loc[i, \"Jak_dark\"] = (results.loc[i, B_ox_name] << 0.5)\n",
    "        results.loc[i, \"vdH_dark\"] = (results.loc[i, B_ox_name] << results.loc[i,\"B_x\"]-0.5)\n",
    "    else:\n",
    "        results.loc[i, \"Jak_dark\"] = (results.loc[i, B_ox_name] < 0.5)\n",
    "        results.loc[i, \"vdH_dark\"] = (results.loc[i, B_ox_name] < results.loc[i,\"B_x\"]-0.5)\n",
    "\n",
    "# results.sort_values(by=[\"GRB\",\"t_o\"],ascending=[False,True])"
   ]
  },
  {
   "cell_type": "code",
   "execution_count": null,
   "id": "lucky-independence",
   "metadata": {},
   "outputs": [],
   "source": [
    "dark_matches = results.loc[(results[\"Jak_dark\"] | results[\"vdH_dark\"]), :].sort_values(by=[\"GRB\",\"dt%\"], ascending=[False,True])\n",
    "\n",
    "# only accept the closest temporal match for each optical data point\n",
    "close_times = results.copy()\n",
    "for grb_id in close_times[\"GRB\"].unique():\n",
    "    working = close_times[close_times[\"GRB\"]==grb_id]\n",
    "    for optical_point in working[\"t_o\"].unique():\n",
    "        subworking = working[working[\"t_o\"]==optical_point]\n",
    "        closest = subworking[\"dt%\"].min()\n",
    "        close_times.drop(subworking[subworking[\"dt%\"] != closest].index, axis=0, inplace=True)\n",
    "\n",
    "# darkest matched pair for each GRB (not necessarily *dark*)\n",
    "darkest_times = results.copy()\n",
    "for grb_id,working in darkest_times.groupby(\"GRB\"):\n",
    "    if any([np.isfinite(fx.minus) for fx in working[\"F_x\"]]):\n",
    "        darkest_times.drop(working[[np.isinf(fx.minus) for fx in working[\"F_x\"]]].index,axis=0,inplace=True)\n",
    "        working = working[[np.isfinite(fx.minus) for fx in working[\"F_x\"]]]\n",
    "    darkest_beta = working[\"B_ox\"].min()\n",
    "    darkest_times.drop(working[working[\"B_ox\"] != darkest_beta].index, axis=0, inplace=True)\n",
    "    \n",
    "for GRB in close_times[\"GRB\"].unique():\n",
    "    print(GRB+\"\\t\",close_times[\"GRB\"].tolist().count(GRB))"
   ]
  },
  {
   "cell_type": "code",
   "execution_count": null,
   "id": "demanding-scoop",
   "metadata": {},
   "outputs": [],
   "source": []
  }
 ],
 "metadata": {
  "hide_input": false,
  "kernelspec": {
   "display_name": "Python 3 (ipykernel)",
   "language": "python",
   "name": "python3"
  },
  "language_info": {
   "codemirror_mode": {
    "name": "ipython",
    "version": 3
   },
   "file_extension": ".py",
   "mimetype": "text/x-python",
   "name": "python",
   "nbconvert_exporter": "python",
   "pygments_lexer": "ipython3",
   "version": "3.10.8"
  },
  "latex_envs": {
   "LaTeX_envs_menu_present": true,
   "autoclose": true,
   "autocomplete": true,
   "bibliofile": "biblio.bib",
   "cite_by": "apalike",
   "current_citInitial": 1,
   "eqLabelWithNumbers": true,
   "eqNumInitial": 1,
   "hotkeys": {
    "equation": "Ctrl-E",
    "itemize": "Ctrl-I"
   },
   "labels_anchors": false,
   "latex_user_defs": false,
   "report_style_numbering": false,
   "user_envs_cfg": false
  },
  "toc": {
   "base_numbering": 1,
   "nav_menu": {},
   "number_sections": true,
   "sideBar": true,
   "skip_h1_title": false,
   "title_cell": "Table of Contents",
   "title_sidebar": "Contents",
   "toc_cell": false,
   "toc_position": {},
   "toc_section_display": true,
   "toc_window_display": false
  },
  "varInspector": {
   "cols": {
    "lenName": 16,
    "lenType": 16,
    "lenVar": 40
   },
   "kernels_config": {
    "python": {
     "delete_cmd_postfix": "",
     "delete_cmd_prefix": "del ",
     "library": "var_list.py",
     "varRefreshCmd": "print(var_dic_list())"
    },
    "r": {
     "delete_cmd_postfix": ") ",
     "delete_cmd_prefix": "rm(",
     "library": "var_list.r",
     "varRefreshCmd": "cat(var_dic_list()) "
    }
   },
   "types_to_exclude": [
    "module",
    "function",
    "builtin_function_or_method",
    "instance",
    "_Feature"
   ],
   "window_display": false
  }
 },
 "nbformat": 4,
 "nbformat_minor": 5
}
